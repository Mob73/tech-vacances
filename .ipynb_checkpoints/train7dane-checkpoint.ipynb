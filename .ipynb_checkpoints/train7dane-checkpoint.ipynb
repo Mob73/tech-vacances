{
 "cells": [
  {
   "cell_type": "markdown",
   "id": "b64fd9a4-0e54-4d03-ac4b-7ff2fe09f520",
   "metadata": {},
   "source": [
    "# 1"
   ]
  },
  {
   "cell_type": "code",
   "execution_count": 5,
   "id": "a9eee4ed-8be2-4b39-9f1d-010a077cfaf1",
   "metadata": {},
   "outputs": [
    {
     "data": {
      "text/html": [
       "<div>\n",
       "<style scoped>\n",
       "    .dataframe tbody tr th:only-of-type {\n",
       "        vertical-align: middle;\n",
       "    }\n",
       "\n",
       "    .dataframe tbody tr th {\n",
       "        vertical-align: top;\n",
       "    }\n",
       "\n",
       "    .dataframe thead th {\n",
       "        text-align: right;\n",
       "    }\n",
       "</style>\n",
       "<table border=\"1\" class=\"dataframe\">\n",
       "  <thead>\n",
       "    <tr style=\"text-align: right;\">\n",
       "      <th></th>\n",
       "      <th>Student_ID</th>\n",
       "      <th>Age</th>\n",
       "      <th>Gender</th>\n",
       "      <th>Academic_Level</th>\n",
       "      <th>Country</th>\n",
       "      <th>Avg_Daily_Usage_Hours</th>\n",
       "      <th>Most_Used_Platform</th>\n",
       "      <th>Affects_Academic_Performance</th>\n",
       "      <th>Sleep_Hours_Per_Night</th>\n",
       "      <th>Mental_Health_Score</th>\n",
       "      <th>Relationship_Status</th>\n",
       "      <th>Conflicts_Over_Social_Media</th>\n",
       "      <th>Addicted_Score</th>\n",
       "    </tr>\n",
       "  </thead>\n",
       "  <tbody>\n",
       "    <tr>\n",
       "      <th>0</th>\n",
       "      <td>1</td>\n",
       "      <td>19</td>\n",
       "      <td>Female</td>\n",
       "      <td>Undergraduate</td>\n",
       "      <td>Bangladesh</td>\n",
       "      <td>5.2</td>\n",
       "      <td>Instagram</td>\n",
       "      <td>Yes</td>\n",
       "      <td>6.5</td>\n",
       "      <td>6</td>\n",
       "      <td>In Relationship</td>\n",
       "      <td>3</td>\n",
       "      <td>8</td>\n",
       "    </tr>\n",
       "    <tr>\n",
       "      <th>1</th>\n",
       "      <td>2</td>\n",
       "      <td>22</td>\n",
       "      <td>Male</td>\n",
       "      <td>Graduate</td>\n",
       "      <td>India</td>\n",
       "      <td>2.1</td>\n",
       "      <td>Twitter</td>\n",
       "      <td>No</td>\n",
       "      <td>7.5</td>\n",
       "      <td>8</td>\n",
       "      <td>Single</td>\n",
       "      <td>0</td>\n",
       "      <td>3</td>\n",
       "    </tr>\n",
       "    <tr>\n",
       "      <th>2</th>\n",
       "      <td>3</td>\n",
       "      <td>20</td>\n",
       "      <td>Female</td>\n",
       "      <td>Undergraduate</td>\n",
       "      <td>USA</td>\n",
       "      <td>6.0</td>\n",
       "      <td>TikTok</td>\n",
       "      <td>Yes</td>\n",
       "      <td>5.0</td>\n",
       "      <td>5</td>\n",
       "      <td>Complicated</td>\n",
       "      <td>4</td>\n",
       "      <td>9</td>\n",
       "    </tr>\n",
       "    <tr>\n",
       "      <th>3</th>\n",
       "      <td>4</td>\n",
       "      <td>18</td>\n",
       "      <td>Male</td>\n",
       "      <td>High School</td>\n",
       "      <td>UK</td>\n",
       "      <td>3.0</td>\n",
       "      <td>YouTube</td>\n",
       "      <td>No</td>\n",
       "      <td>7.0</td>\n",
       "      <td>7</td>\n",
       "      <td>Single</td>\n",
       "      <td>1</td>\n",
       "      <td>4</td>\n",
       "    </tr>\n",
       "    <tr>\n",
       "      <th>4</th>\n",
       "      <td>5</td>\n",
       "      <td>21</td>\n",
       "      <td>Male</td>\n",
       "      <td>Graduate</td>\n",
       "      <td>Canada</td>\n",
       "      <td>4.5</td>\n",
       "      <td>Facebook</td>\n",
       "      <td>Yes</td>\n",
       "      <td>6.0</td>\n",
       "      <td>6</td>\n",
       "      <td>In Relationship</td>\n",
       "      <td>2</td>\n",
       "      <td>7</td>\n",
       "    </tr>\n",
       "  </tbody>\n",
       "</table>\n",
       "</div>"
      ],
      "text/plain": [
       "   Student_ID  Age  Gender Academic_Level     Country  Avg_Daily_Usage_Hours  \\\n",
       "0           1   19  Female  Undergraduate  Bangladesh                    5.2   \n",
       "1           2   22    Male       Graduate       India                    2.1   \n",
       "2           3   20  Female  Undergraduate         USA                    6.0   \n",
       "3           4   18    Male    High School          UK                    3.0   \n",
       "4           5   21    Male       Graduate      Canada                    4.5   \n",
       "\n",
       "  Most_Used_Platform Affects_Academic_Performance  Sleep_Hours_Per_Night  \\\n",
       "0          Instagram                          Yes                    6.5   \n",
       "1            Twitter                           No                    7.5   \n",
       "2             TikTok                          Yes                    5.0   \n",
       "3            YouTube                           No                    7.0   \n",
       "4           Facebook                          Yes                    6.0   \n",
       "\n",
       "   Mental_Health_Score Relationship_Status  Conflicts_Over_Social_Media  \\\n",
       "0                    6     In Relationship                            3   \n",
       "1                    8              Single                            0   \n",
       "2                    5         Complicated                            4   \n",
       "3                    7              Single                            1   \n",
       "4                    6     In Relationship                            2   \n",
       "\n",
       "   Addicted_Score  \n",
       "0               8  \n",
       "1               3  \n",
       "2               9  \n",
       "3               4  \n",
       "4               7  "
      ]
     },
     "execution_count": 5,
     "metadata": {},
     "output_type": "execute_result"
    }
   ],
   "source": [
    "import pandas as pd\n",
    "\n",
    "# Now you can use pd\n",
    "students_social_media_addiction = pd.read_csv('students_social_media_addiction.csv')\n",
    "students_social_media_addiction.head(5)"
   ]
  },
  {
   "cell_type": "markdown",
   "id": "69bdd6f1-4854-43c4-a03a-2099804bae22",
   "metadata": {},
   "source": [
    "# 2\n",
    "### **les variables sont**: \n",
    "student_ID;\n",
    "age;  \n",
    "Avg_Daily_Usage_Hours;\n",
    "Sleep_Hours_Per_Night;\t\n",
    "Mental_Health_Score;\t\n",
    "Conflicts_Over_Social_Media;\n",
    "Addicted_Score.\n",
    "### il n'existe aucune valeur manquante "
   ]
  },
  {
   "cell_type": "markdown",
   "id": "8d263afe-79f2-477b-9b87-547fc1af916d",
   "metadata": {},
   "source": [
    "# les variables sont de types **\"int\"**"
   ]
  },
  {
   "cell_type": "markdown",
   "id": "45ee12dc-2c7c-4841-8c2a-4654befaf163",
   "metadata": {},
   "source": [
    "# 2a)\n",
    "### *Student_IDa pour valeur maximale* 705 et pour valeur minimale **1**\n",
    "# 2b)\n",
    "### *age a pour valeur maximale* 24 et valeur minimale **18**\n",
    "# 2c)\n",
    "### *Avg_Daily_Usage_Hours a pour valeur maximale* 8.5 et valeur minimale **1.5**\n",
    "# 2d)\n",
    "### *Sleep_Hours_Per_Night a pour valeur maximale* 9.6 et valeur minimale **3.8**\n",
    "# 2e)\n",
    "### *Mental_Health_Score a pour valeur maximale* 9 et pour valeur minimale **4**\t\n",
    "# 2f)\n",
    "### *Conflicts_Over_Social_Media a pour valeur maximale* 5 et pour valeur minimale **0** \n",
    "# 2g)\n",
    "### *Addicted_Score a pour valeur maximale* 9 et pour valeur minimale **2**"
   ]
  },
  {
   "cell_type": "code",
   "execution_count": null,
   "id": "eb425842-fa91-4701-a41c-fe1bd2cd2e8b",
   "metadata": {},
   "outputs": [],
   "source": []
  },
  {
   "cell_type": "markdown",
   "id": "eb98d86a-b4cb-4663-8d97-8849c8f7ae3c",
   "metadata": {},
   "source": [
    "# 3"
   ]
  },
  {
   "cell_type": "markdown",
   "id": "52e1797f-ccf6-445a-b3c7-ee5807e12846",
   "metadata": {},
   "source": [
    "# a) *extraction des ages"
   ]
  },
  {
   "cell_type": "code",
   "execution_count": 13,
   "id": "f3cd899c-e71b-4c69-a564-c07504dccad1",
   "metadata": {},
   "outputs": [
    {
     "name": "stdout",
     "output_type": "stream",
     "text": [
      "0      19\n",
      "1      22\n",
      "2      20\n",
      "3      18\n",
      "4      21\n",
      "       ..\n",
      "700    20\n",
      "701    23\n",
      "702    21\n",
      "703    24\n",
      "704    19\n",
      "Name: Age, Length: 705, dtype: int64\n"
     ]
    }
   ],
   "source": [
    "ages_des_élèves = students_social_media_addiction[\"Age\"]\n",
    "print(ages_des_élèves)"
   ]
  },
  {
   "cell_type": "markdown",
   "id": "66fcc414-146b-4343-9646-a2a486b62e0c",
   "metadata": {},
   "source": [
    "# b) niveaux  d'addiction des élèves *"
   ]
  },
  {
   "cell_type": "code",
   "execution_count": 22,
   "id": "c599d1ce-9094-4c4b-90ed-aaf63bf58082",
   "metadata": {},
   "outputs": [
    {
     "name": "stdout",
     "output_type": "stream",
     "text": [
      "0      8\n",
      "1      3\n",
      "2      9\n",
      "3      4\n",
      "4      7\n",
      "      ..\n",
      "700    5\n",
      "701    9\n",
      "702    7\n",
      "703    4\n",
      "704    8\n",
      "Name: Addicted_Score, Length: 705, dtype: int64\n"
     ]
    }
   ],
   "source": [
    "niveaux_de_addiction = students_social_media_addiction[\"Addicted_Score\"]\n",
    "print(niveaux_de_addiction)"
   ]
  },
  {
   "cell_type": "code",
   "execution_count": 28,
   "id": "54b81f07-feaf-4d1c-a9d4-0922b66a9a57",
   "metadata": {},
   "outputs": [
    {
     "name": "stdout",
     "output_type": "stream",
     "text": [
      "plateforme la plus utilisée par les élèves est: Instagram\n"
     ]
    }
   ],
   "source": [
    "# Calculer le nombre d'occurrences de chaque plateforme dans la colonne \"Most_Used_Platform\"\n",
    "plateforme_la_plus_utilisée_en_général = students_social_media_addiction[\"Most_Used_Platform\"].value_counts()\n",
    "# Afficher la plateforme la plus utilisée par les élèves\n",
    "print(\"plateforme la plus utilisée par les élèves est:\", plateforme_la_plus_utilisée_en_général.idxmax())"
   ]
  },
  {
   "cell_type": "code",
   "execution_count": 29,
   "id": "2fb33613-a069-49d1-9f59-cbe5d71ea544",
   "metadata": {},
   "outputs": [
    {
     "name": "stdout",
     "output_type": "stream",
     "text": [
      "Plateforme la plus utilisée en Inde: WhatsApp\n",
      "Plateforme la plus utilisée aux USA: Instagram\n"
     ]
    }
   ],
   "source": [
    "# Trouver la plateforme la plus utilisée en Inde\n",
    "plateforme_inde = students_social_media_addiction[students_social_media_addiction[\"Country\"] == \"India\"][\"Most_Used_Platform\"].value_counts().idxmax()\n",
    "# Trouver la plateforme la plus utilisée aux USA\n",
    "plateforme_usa = students_social_media_addiction[students_social_media_addiction[\"Country\"] == \"USA\"][\"Most_Used_Platform\"].value_counts().idxmax()\n",
    "# Afficher les résultats\n",
    "print(\"Plateforme la plus utilisée en Inde:\", plateforme_inde)\n",
    "print(\"Plateforme la plus utilisée aux USA:\", plateforme_usa)"
   ]
  },
  {
   "cell_type": "markdown",
   "id": "11568936-abdc-4a8a-a264-85accff04473",
   "metadata": {},
   "source": [
    "# *nombre d'utilisateur par pays et par plateformes"
   ]
  },
  {
   "cell_type": "code",
   "execution_count": 6,
   "id": "aa6867b0-0516-4717-b364-e51bab101296",
   "metadata": {},
   "outputs": [
    {
     "name": "stdout",
     "output_type": "stream",
     "text": [
      "Nombre d'utilisateurs par pays et par plateforme:\n",
      "Most_Used_Platform  Facebook  Instagram  KakaoTalk  LINE  LinkedIn  Snapchat  \\\n",
      "Country                                                                        \n",
      "Afghanistan                0          0          0     0         1         0   \n",
      "Albania                    0          0          0     0         0         0   \n",
      "Andorra                    0          0          0     0         0         0   \n",
      "Argentina                  0          0          0     0         0         0   \n",
      "Armenia                    0          1          0     0         0         0   \n",
      "...                      ...        ...        ...   ...       ...       ...   \n",
      "Uzbekistan                 0          0          0     0         0         0   \n",
      "Vatican City               0          0          0     0         0         0   \n",
      "Venezuela                  1          0          0     0         0         0   \n",
      "Vietnam                    1          0          0     0         0         0   \n",
      "Yemen                      1          0          0     0         0         0   \n",
      "\n",
      "Most_Used_Platform  TikTok  Twitter  VKontakte  WeChat  WhatsApp  YouTube  \n",
      "Country                                                                    \n",
      "Afghanistan              0        0          0       0         0        0  \n",
      "Albania                  1        0          0       0         0        0  \n",
      "Andorra                  1        0          0       0         0        0  \n",
      "Argentina                1        0          0       0         0        0  \n",
      "Armenia                  0        0          0       0         0        0  \n",
      "...                    ...      ...        ...     ...       ...      ...  \n",
      "Uzbekistan               1        0          0       0         0        0  \n",
      "Vatican City             0        0          0       0         0        1  \n",
      "Venezuela                0        0          0       0         0        0  \n",
      "Vietnam                  0        0          0       0         0        0  \n",
      "Yemen                    0        0          0       0         0        0  \n",
      "\n",
      "[110 rows x 12 columns]\n",
      "\n",
      "Nombre total d'utilisateurs par pays:\n",
      "Country\n",
      "India          53\n",
      "USA            40\n",
      "Canada         34\n",
      "France         27\n",
      "Mexico         27\n",
      "               ..\n",
      "Oman            1\n",
      "Afghanistan     1\n",
      "Syria           1\n",
      "Yemen           1\n",
      "Bhutan          1\n",
      "Name: count, Length: 110, dtype: int64\n"
     ]
    }
   ],
   "source": [
    "# Créer un tableau croisé dynamique pour compter le nombre d'utilisateurs par pays et par plateforme\n",
    "utilisateurs_par_pays_plateforme = pd.crosstab(\n",
    "    students_social_media_addiction[\"Country\"], \n",
    "    students_social_media_addiction[\"Most_Used_Platform\"]\n",
    ")\n",
    "\n",
    "# Afficher le tableau des utilisateurs par pays et par plateforme\n",
    "print(\"Nombre d'utilisateurs par pays et par plateforme:\")\n",
    "print(utilisateurs_par_pays_plateforme)\n",
    "\n",
    "\n",
    "# Afficher également le total par pays\n",
    "print(\"\\nNombre total d'utilisateurs par pays:\")\n",
    "print(students_social_media_addiction[\"Country\"].value_counts())"
   ]
  },
  {
   "cell_type": "markdown",
   "id": "a56a10d5-0efa-457c-9fcb-b92af045e49a",
   "metadata": {},
   "source": [
    "# C) *plateformes qui ont un effet sur les résultats académiques des élèves en inde"
   ]
  },
  {
   "cell_type": "code",
   "execution_count": 17,
   "id": "6450c565-61b3-4708-9ba7-aa9519438e7c",
   "metadata": {},
   "outputs": [
    {
     "name": "stdout",
     "output_type": "stream",
     "text": [
      "[]\n"
     ]
    }
   ],
   "source": [
    "import pandas as pd\n",
    "\n",
    "#Exemple de création manuelle des données\n",
    "data = {\n",
    "    \"Student_ID\": [1, 2, 3, 4, 5],\n",
    "    \"Country\": [\"Bangladesh\", \"India\", \"USA\", \"UK\", \"Canada\"],\n",
    "    \"Most_Used_Platform\": [\"Instagram\", \"Twitter\", \"TikTok\", \"YouTube\", \"Facebook\"],\n",
    "    \"Affects_Academic_Performance\": [\"Yes\", \"No\", \"Yes\", \"No\", \"Yes\"]\n",
    "}\n",
    "\n",
    "df = pd.DataFrame(data)\n",
    "\n",
    "#Filtrer uniquement les élèves en Inde dont les performances sont affectées\n",
    "result = df[\n",
    "    (df[\"Country\"] == \"India\") &\n",
    "    (df[\"Affects_Academic_Performance\"] == \"Yes\")\n",
    "]\n",
    "\n",
    "#Afficher la ou les plateformes concernées\n",
    "print(result[\"Most_Used_Platform\"].unique())"
   ]
  },
  {
   "cell_type": "markdown",
   "id": "27cdc088-34dc-41b0-967a-efa14d779676",
   "metadata": {},
   "source": [
    "### 5) comparer l'addiction des filles à celle des garçons "
   ]
  },
  {
   "cell_type": "code",
   "execution_count": 1,
   "id": "18f82502-6fcc-4c83-8b50-1df913a6c3f9",
   "metadata": {},
   "outputs": [
    {
     "name": "stdout",
     "output_type": "stream",
     "text": [
      "Comparaison des scores d'addiction entre genres:\n",
      "            mean  median  count\n",
      "Gender                         \n",
      "Female  8.500000     8.5      2\n",
      "Male    4.666667     4.0      3\n",
      "\n",
      "Test t: t-statistique = 2.40, p-value = 0.096\n",
      "Il n'y a pas de différence statistiquement significative entre les genres.\n"
     ]
    }
   ],
   "source": [
    "import pandas as pd\n",
    "\n",
    "# Création des DataFrames à partir des données fournies\n",
    "# Premier tableau (informations de base)\n",
    "data1 = {\n",
    "    'Student_ID': [1, 2, 3, 4, 5],\n",
    "    'Age': [19, 22, 20, 18, 21],\n",
    "    'Gender': ['Female', 'Male', 'Female', 'Male', 'Male'],\n",
    "    'Academic_Level': ['Undergraduate', 'Graduate', 'Undergraduate', 'High School', 'Graduate'],\n",
    "    'Country': ['Bangladesh', 'India', 'USA', 'UK', 'Canada'],\n",
    "    'Avg_Daily_Usage_Hours': [5.2, 2.1, 6.0, 3.0, 4.5],\n",
    "    'Most_Used_Platform': ['Instagram', 'Twitter', 'TikTok', 'YouTube', 'Facebook'],\n",
    "    'Affects_Academic_Performance': ['Yes', 'No', 'Yes', 'No', 'Yes']\n",
    "}\n",
    "\n",
    "# Deuxième tableau (scores)\n",
    "data2 = {\n",
    "    'Affects_Academic_Performance': ['Yes', 'No', 'Yes', 'No', 'Yes'],\n",
    "    'Sleep_Hours_Per_Night': [6.5, 7.5, 5.0, 7.0, 6.0],\n",
    "    'Mental_Health_Score': [6, 8, 5, 7, 6],\n",
    "    'Relationship_Status': ['In Relationship', 'Single', 'Complicated', 'Single', 'In Relationship'],\n",
    "    'Conflicts_Over_Social_Media': [3, 0, 4, 1, 2],\n",
    "    'Addicted_Score': [8, 3, 9, 4, 7]\n",
    "}\n",
    "\n",
    "# Création des DataFrames\n",
    "df1 = pd.DataFrame(data1)\n",
    "df2 = pd.DataFrame(data2)\n",
    "\n",
    "# Fusion des deux DataFrames\n",
    "df = pd.concat([df1, df2.drop('Affects_Academic_Performance', axis=1)], axis=1)\n",
    "\n",
    "# Analyse comparative par genre\n",
    "addiction_by_gender = df.groupby('Gender')['Addicted_Score'].agg(['mean', 'median', 'count'])\n",
    "\n",
    "print(\"Comparaison des scores d'addiction entre genres:\")\n",
    "print(addiction_by_gender)\n",
    "\n",
    "# Test statistique (test t pour échantillons indépendants)\n",
    "from scipy import stats\n",
    "\n",
    "female_scores = df[df['Gender'] == 'Female']['Addicted_Score']\n",
    "male_scores = df[df['Gender'] == 'Male']['Addicted_Score']\n",
    "\n",
    "t_stat, p_value = stats.ttest_ind(female_scores, male_scores)\n",
    "\n",
    "print(f\"\\nTest t: t-statistique = {t_stat:.2f}, p-value = {p_value:.3f}\")\n",
    "\n",
    "if p_value < 0.05:\n",
    "    print(\"Il y a une différence statistiquement significative entre les genres.\")\n",
    "else:\n",
    "    print(\"Il n'y a pas de différence statistiquement significative entre les genres.\")"
   ]
  },
  {
   "cell_type": "markdown",
   "id": "f56199f7-bc43-4738-b6fb-2b4796c70c54",
   "metadata": {},
   "source": [
    "# 6 * Age pour laquelle l'addiction est plus forte"
   ]
  },
  {
   "cell_type": "code",
   "execution_count": 2,
   "id": "87c64f7e-47b6-4350-92ee-3f897e5a3b17",
   "metadata": {},
   "outputs": [
    {
     "name": "stdout",
     "output_type": "stream",
     "text": [
      "Score d'addiction par âge:\n",
      "     mean  max  min  count\n",
      "Age                       \n",
      "18    4.0    4    4      1\n",
      "19    8.0    8    8      1\n",
      "20    9.0    9    9      1\n",
      "21    7.0    7    7      1\n",
      "22    3.0    3    3      1\n",
      "\n",
      "L'âge avec le score d'addiction moyen le plus élevé est: 20 ans\n",
      "\n",
      "Corrélation entre âge et score d'addiction: -0.18\n"
     ]
    },
    {
     "data": {
      "image/png": "[encoded data removed]",
      "text/plain": [
       "<Figure size 1000x600 with 1 Axes>"
      ]
     },
     "metadata": {},
     "output_type": "display_data"
    },
    {
     "data": {
      "image/png": "[encoded data removed]",
      "text/plain": [
       "<Figure size 1000x600 with 1 Axes>"
      ]
     },
     "metadata": {},
     "output_type": "display_data"
    }
   ],
   "source": [
    "import pandas as pd\n",
    "import matplotlib.pyplot as plt\n",
    "import seaborn as sns\n",
    "\n",
    "# Création des DataFrames à partir des données fournies\n",
    "# Données des étudiants\n",
    "student_data = {\n",
    "    'Student_ID': [1, 2, 3, 4, 5],\n",
    "    'Age': [19, 22, 20, 18, 21],  # J'ai corrigé la colonne Age qui était mal alignée\n",
    "    'Gender': ['Female', 'Male', 'Female', 'Male', 'Male'],\n",
    "    'Academic_Level': ['Undergraduate', 'Graduate', 'Undergraduate', 'High School', 'Graduate'],\n",
    "    'Country': ['Bangladesh', 'India', 'USA', 'UK', 'Canada'],\n",
    "    'Avg_Daily_Usage_Hours': [5.2, 2.1, 6.0, 3.0, 4.5],\n",
    "    'Most_Used_Platform': ['Instagram', 'Twitter', 'TikTok', 'YouTube', 'Facebook'],\n",
    "    'Affects_Academic_Performance': ['Yes', 'No', 'Yes', 'No', 'Yes']\n",
    "}\n",
    "\n",
    "# Données des scores\n",
    "score_data = {\n",
    "    'Affects_Academic_Performance': ['Yes', 'No', 'Yes', 'No', 'Yes'],\n",
    "    'Sleep_Hours_Per_Night': [6.5, 7.5, 5.0, 7.0, 6.0],\n",
    "    'Mental_Health_Score': [6, 8, 5, 7, 6],\n",
    "    'Relationship_Status': ['In Relationship', 'Single', 'Complicated', 'Single', 'In Relationship'],\n",
    "    'Conflicts_Over_Social_Media': [3, 0, 4, 1, 2],\n",
    "    'Addicted_Score': [8, 3, 9, 4, 7]\n",
    "}\n",
    "\n",
    "# Création et fusion des DataFrames\n",
    "df_students = pd.DataFrame(student_data)\n",
    "df_scores = pd.DataFrame(score_data)\n",
    "df = pd.concat([df_students, df_scores.drop('Affects_Academic_Performance', axis=1)], axis=1)\n",
    "\n",
    "# 1. Analyse descriptive par âge\n",
    "age_addiction = df.groupby('Age')['Addicted_Score'].agg(['mean', 'max', 'min', 'count'])\n",
    "print(\"Score d'addiction par âge:\")\n",
    "print(age_addiction)\n",
    "\n",
    "# 2. Trouver l'âge avec le score d'addiction moyen le plus élevé\n",
    "max_age = age_addiction['mean'].idxmax()\n",
    "print(f\"\\nL'âge avec le score d'addiction moyen le plus élevé est: {max_age} ans\")\n",
    "\n",
    "# 3. Corrélation entre âge et score d'addiction\n",
    "correlation = df['Age'].corr(df['Addicted_Score'])\n",
    "print(f\"\\nCorrélation entre âge et score d'addiction: {correlation:.2f}\")\n",
    "\n",
    "# 4. Visualisation\n",
    "plt.figure(figsize=(10, 6))\n",
    "sns.scatterplot(data=df, x='Age', y='Addicted_Score', hue='Gender', s=100)\n",
    "plt.title(\"Relation entre l'âge et le score d'addiction\")\n",
    "plt.xlabel('Âge')\n",
    "plt.ylabel('Score d\\'addiction')\n",
    "plt.grid(True)\n",
    "plt.show()\n",
    "\n",
    "# 5. Régression linéaire pour voir la tendance\n",
    "plt.figure(figsize=(10, 6))\n",
    "sns.regplot(data=df, x='Age', y='Addicted_Score', scatter_kws={'s': 100})\n",
    "plt.title(\"Tendance entre l'âge et le score d'addiction\")\n",
    "plt.xlabel('Âge')\n",
    "plt.ylabel('Score d\\'addiction')\n",
    "plt.grid(True)\n",
    "plt.show()"
   ]
  }
 ],
 "metadata": {
  "kernelspec": {
   "display_name": "Python 3 (ipykernel)",
   "language": "python",
   "name": "python3"
  },
  "language_info": {
   "codemirror_mode": {
    "name": "ipython",
    "version": 3
   },
   "file_extension": ".py",
   "mimetype": "text/x-python",
   "name": "python",
   "nbconvert_exporter": "python",
   "pygments_lexer": "ipython3",
   "version": "3.13.5"
  }
 },
 "nbformat": 4,
 "nbformat_minor": 5
}
