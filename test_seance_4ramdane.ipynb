{
 "cells": [
  {
   "cell_type": "code",
   "execution_count": 5,
   "id": "919d9e2c",
   "metadata": {},
   "outputs": [],
   "source": [
    "# 📝 Complétez les fonctions suivantes en respectant les signatures\n",
    "\n",
    "def addition(a: int, b: int) -> int:\n",
    "    # TODO: retourner la somme de a et b\n",
    "    return a + b \n",
    "\n",
    "def soustraction(a: int, b: int) -> int:\n",
    "    # TODO: retourner la différence entre a et b\n",
    "    a-b\n",
    "    return a - b\n",
    "\n",
    "def multiplication(a: int, b: int) -> int:\n",
    "    # TODO: retourner le produit de a et b\n",
    "    return a*b\n",
    "\n",
    "def division(a: int, b: int) -> float:\n",
    "    # TODO: retourner la division de a par b\n",
    "    # ⚠️ Assurez-vous que b n'est pas zéro\n",
    "    return a/b if b != 0 else None\n"
   ]
  },
  {
   "cell_type": "code",
   "execution_count": 6,
   "id": "575309d1",
   "metadata": {},
   "outputs": [
    {
     "name": "stdout",
     "output_type": "stream",
     "text": [
      "✅ addition(3, 5) == 8 → OK\n",
      "✅ addition(-2, 7) == 5 → OK\n",
      "✅ soustraction(10, 4) == 6 → OK\n",
      "✅ soustraction(0, 5) == -5 → OK\n",
      "✅ multiplication(4, 3) == 12 → OK\n",
      "✅ multiplication(0, 9) == 0 → OK\n",
      "✅ division(8, 2) == 4.0 → OK\n",
      "✅ division(7, 4) == 1.75 → OK\n",
      "\n",
      "📊 Résultats des tests :\n",
      "✅ Tests réussis : 8\n",
      "❌ Tests échoués : 0\n"
     ]
    }
   ],
   "source": [
    "# ✅ Cette cellule teste les fonctions définies ci-dessus\n",
    "# Elle affiche les tests réussis et échoués de manière claire\n",
    "\n",
    "def run_tests():\n",
    "    tests = [\n",
    "        # (nom de la fonction, fonction, entrées, sortie attendue)\n",
    "        (\"addition\", addition, (3, 5), 8),\n",
    "        (\"addition\", addition, (-2, 7), 5),\n",
    "        (\"soustraction\", soustraction, (10, 4), 6),\n",
    "        (\"soustraction\", soustraction, (0, 5), -5),\n",
    "        (\"multiplication\", multiplication, (4, 3), 12),\n",
    "        (\"multiplication\", multiplication, (0, 9), 0),\n",
    "        (\"division\", division, (8, 2), 4.0),\n",
    "        (\"division\", division, (7, 4), 1.75),\n",
    "    ]\n",
    "\n",
    "    passed = 0\n",
    "    failed = 0\n",
    "\n",
    "    for name, func, inputs, expected in tests:\n",
    "        try:\n",
    "            result = func(*inputs)\n",
    "            if result == expected:\n",
    "                print(f\"✅ {name}({inputs[0]}, {inputs[1]}) == {expected} → OK\")\n",
    "                passed += 1\n",
    "            else:\n",
    "                print(f\"❌ {name}({inputs[0]}, {inputs[1]}) → {result}, attendu : {expected}\")\n",
    "                failed += 1\n",
    "        except ZeroDivisionError:\n",
    "            print(f\"❌ {name}({inputs[0]}, {inputs[1]}) → Erreur : division par zéro\")\n",
    "            failed += 1\n",
    "        except Exception as e:\n",
    "            print(f\"❌ {name}({inputs[0]}, {inputs[1]}) → Erreur inattendue : {e}\")\n",
    "            failed += 1\n",
    "\n",
    "    print(\"\\n📊 Résultats des tests :\")\n",
    "    print(f\"✅ Tests réussis : {passed}\")\n",
    "    print(f\"❌ Tests échoués : {failed}\")\n",
    "\n",
    "run_tests()\n"
   ]
  }
 ],
 "metadata": {
  "kernelspec": {
   "display_name": "Python 3",
   "language": "python",
   "name": "python3"
  },
  "language_info": {
   "codemirror_mode": {
    "name": "ipython",
    "version": 3
   },
   "file_extension": ".py",
   "mimetype": "text/x-python",
   "name": "python",
   "nbconvert_exporter": "python",
   "pygments_lexer": "ipython3",
   "version": "3.13.3"
  }
 },
 "nbformat": 4,
 "nbformat_minor": 5
}
