{
 "cells": [
  {
   "cell_type": "markdown",
   "id": "b6244db3",
   "metadata": {},
   "source": [
    "<h1 style=\"text-align:center; color:#2e86de;\">🚀 TRAINING 7</h1>"
   ]
  },
  {
   "cell_type": "markdown",
   "id": "522ae931",
   "metadata": {},
   "source": [
    "# ***1. Chargement des données***"
   ]
  },
  {
   "cell_type": "code",
   "execution_count": 22,
   "id": "040ea93d",
   "metadata": {},
   "outputs": [],
   "source": [
    "import pandas as pd\n",
    "import numpy as np  \n"
   ]
  },
  {
   "cell_type": "code",
   "execution_count": 23,
   "id": "a51eea9c",
   "metadata": {},
   "outputs": [
    {
     "data": {
      "text/html": [
       "<div>\n",
       "<style scoped>\n",
       "    .dataframe tbody tr th:only-of-type {\n",
       "        vertical-align: middle;\n",
       "    }\n",
       "\n",
       "    .dataframe tbody tr th {\n",
       "        vertical-align: top;\n",
       "    }\n",
       "\n",
       "    .dataframe thead th {\n",
       "        text-align: right;\n",
       "    }\n",
       "</style>\n",
       "<table border=\"1\" class=\"dataframe\">\n",
       "  <thead>\n",
       "    <tr style=\"text-align: right;\">\n",
       "      <th></th>\n",
       "      <th>Student_ID</th>\n",
       "      <th>Age</th>\n",
       "      <th>Gender</th>\n",
       "      <th>Academic_Level</th>\n",
       "      <th>Country</th>\n",
       "      <th>Avg_Daily_Usage_Hours</th>\n",
       "      <th>Most_Used_Platform</th>\n",
       "      <th>Affects_Academic_Performance</th>\n",
       "      <th>Sleep_Hours_Per_Night</th>\n",
       "      <th>Mental_Health_Score</th>\n",
       "      <th>Relationship_Status</th>\n",
       "      <th>Conflicts_Over_Social_Media</th>\n",
       "      <th>Addicted_Score</th>\n",
       "    </tr>\n",
       "  </thead>\n",
       "  <tbody>\n",
       "    <tr>\n",
       "      <th>0</th>\n",
       "      <td>1</td>\n",
       "      <td>19</td>\n",
       "      <td>Female</td>\n",
       "      <td>Undergraduate</td>\n",
       "      <td>Bangladesh</td>\n",
       "      <td>5.2</td>\n",
       "      <td>Instagram</td>\n",
       "      <td>Yes</td>\n",
       "      <td>6.5</td>\n",
       "      <td>6</td>\n",
       "      <td>In Relationship</td>\n",
       "      <td>3</td>\n",
       "      <td>8</td>\n",
       "    </tr>\n",
       "    <tr>\n",
       "      <th>1</th>\n",
       "      <td>2</td>\n",
       "      <td>22</td>\n",
       "      <td>Male</td>\n",
       "      <td>Graduate</td>\n",
       "      <td>India</td>\n",
       "      <td>2.1</td>\n",
       "      <td>Twitter</td>\n",
       "      <td>No</td>\n",
       "      <td>7.5</td>\n",
       "      <td>8</td>\n",
       "      <td>Single</td>\n",
       "      <td>0</td>\n",
       "      <td>3</td>\n",
       "    </tr>\n",
       "    <tr>\n",
       "      <th>2</th>\n",
       "      <td>3</td>\n",
       "      <td>20</td>\n",
       "      <td>Female</td>\n",
       "      <td>Undergraduate</td>\n",
       "      <td>USA</td>\n",
       "      <td>6.0</td>\n",
       "      <td>TikTok</td>\n",
       "      <td>Yes</td>\n",
       "      <td>5.0</td>\n",
       "      <td>5</td>\n",
       "      <td>Complicated</td>\n",
       "      <td>4</td>\n",
       "      <td>9</td>\n",
       "    </tr>\n",
       "    <tr>\n",
       "      <th>3</th>\n",
       "      <td>4</td>\n",
       "      <td>18</td>\n",
       "      <td>Male</td>\n",
       "      <td>High School</td>\n",
       "      <td>UK</td>\n",
       "      <td>3.0</td>\n",
       "      <td>YouTube</td>\n",
       "      <td>No</td>\n",
       "      <td>7.0</td>\n",
       "      <td>7</td>\n",
       "      <td>Single</td>\n",
       "      <td>1</td>\n",
       "      <td>4</td>\n",
       "    </tr>\n",
       "    <tr>\n",
       "      <th>4</th>\n",
       "      <td>5</td>\n",
       "      <td>21</td>\n",
       "      <td>Male</td>\n",
       "      <td>Graduate</td>\n",
       "      <td>Canada</td>\n",
       "      <td>4.5</td>\n",
       "      <td>Facebook</td>\n",
       "      <td>Yes</td>\n",
       "      <td>6.0</td>\n",
       "      <td>6</td>\n",
       "      <td>In Relationship</td>\n",
       "      <td>2</td>\n",
       "      <td>7</td>\n",
       "    </tr>\n",
       "  </tbody>\n",
       "</table>\n",
       "</div>"
      ],
      "text/plain": [
       "   Student_ID  Age  Gender Academic_Level     Country  Avg_Daily_Usage_Hours  \\\n",
       "0           1   19  Female  Undergraduate  Bangladesh                    5.2   \n",
       "1           2   22    Male       Graduate       India                    2.1   \n",
       "2           3   20  Female  Undergraduate         USA                    6.0   \n",
       "3           4   18    Male    High School          UK                    3.0   \n",
       "4           5   21    Male       Graduate      Canada                    4.5   \n",
       "\n",
       "  Most_Used_Platform Affects_Academic_Performance  Sleep_Hours_Per_Night  \\\n",
       "0          Instagram                          Yes                    6.5   \n",
       "1            Twitter                           No                    7.5   \n",
       "2             TikTok                          Yes                    5.0   \n",
       "3            YouTube                           No                    7.0   \n",
       "4           Facebook                          Yes                    6.0   \n",
       "\n",
       "   Mental_Health_Score Relationship_Status  Conflicts_Over_Social_Media  \\\n",
       "0                    6     In Relationship                            3   \n",
       "1                    8              Single                            0   \n",
       "2                    5         Complicated                            4   \n",
       "3                    7              Single                            1   \n",
       "4                    6     In Relationship                            2   \n",
       "\n",
       "   Addicted_Score  \n",
       "0               8  \n",
       "1               3  \n",
       "2               9  \n",
       "3               4  \n",
       "4               7  "
      ]
     },
     "execution_count": 23,
     "metadata": {},
     "output_type": "execute_result"
    }
   ],
   "source": [
    "students_social_media_addiction = pd.read_csv(\"students_social_media_addiction.csv\")\n",
    "students_social_media_addiction.head()"
   ]
  },
  {
   "cell_type": "code",
   "execution_count": 24,
   "id": "a94dcbde",
   "metadata": {},
   "outputs": [
    {
     "data": {
      "text/html": [
       "<div>\n",
       "<style scoped>\n",
       "    .dataframe tbody tr th:only-of-type {\n",
       "        vertical-align: middle;\n",
       "    }\n",
       "\n",
       "    .dataframe tbody tr th {\n",
       "        vertical-align: top;\n",
       "    }\n",
       "\n",
       "    .dataframe thead th {\n",
       "        text-align: right;\n",
       "    }\n",
       "</style>\n",
       "<table border=\"1\" class=\"dataframe\">\n",
       "  <thead>\n",
       "    <tr style=\"text-align: right;\">\n",
       "      <th></th>\n",
       "      <th>Student_ID</th>\n",
       "      <th>Age</th>\n",
       "      <th>Avg_Daily_Usage_Hours</th>\n",
       "      <th>Sleep_Hours_Per_Night</th>\n",
       "      <th>Mental_Health_Score</th>\n",
       "      <th>Conflicts_Over_Social_Media</th>\n",
       "      <th>Addicted_Score</th>\n",
       "    </tr>\n",
       "  </thead>\n",
       "  <tbody>\n",
       "    <tr>\n",
       "      <th>count</th>\n",
       "      <td>705.000000</td>\n",
       "      <td>705.000000</td>\n",
       "      <td>705.000000</td>\n",
       "      <td>705.000000</td>\n",
       "      <td>705.000000</td>\n",
       "      <td>705.000000</td>\n",
       "      <td>705.000000</td>\n",
       "    </tr>\n",
       "    <tr>\n",
       "      <th>mean</th>\n",
       "      <td>353.000000</td>\n",
       "      <td>20.659574</td>\n",
       "      <td>4.918723</td>\n",
       "      <td>6.868936</td>\n",
       "      <td>6.226950</td>\n",
       "      <td>2.849645</td>\n",
       "      <td>6.436879</td>\n",
       "    </tr>\n",
       "    <tr>\n",
       "      <th>std</th>\n",
       "      <td>203.660256</td>\n",
       "      <td>1.399217</td>\n",
       "      <td>1.257395</td>\n",
       "      <td>1.126848</td>\n",
       "      <td>1.105055</td>\n",
       "      <td>0.957968</td>\n",
       "      <td>1.587165</td>\n",
       "    </tr>\n",
       "    <tr>\n",
       "      <th>min</th>\n",
       "      <td>1.000000</td>\n",
       "      <td>18.000000</td>\n",
       "      <td>1.500000</td>\n",
       "      <td>3.800000</td>\n",
       "      <td>4.000000</td>\n",
       "      <td>0.000000</td>\n",
       "      <td>2.000000</td>\n",
       "    </tr>\n",
       "    <tr>\n",
       "      <th>25%</th>\n",
       "      <td>177.000000</td>\n",
       "      <td>19.000000</td>\n",
       "      <td>4.100000</td>\n",
       "      <td>6.000000</td>\n",
       "      <td>5.000000</td>\n",
       "      <td>2.000000</td>\n",
       "      <td>5.000000</td>\n",
       "    </tr>\n",
       "    <tr>\n",
       "      <th>50%</th>\n",
       "      <td>353.000000</td>\n",
       "      <td>21.000000</td>\n",
       "      <td>4.800000</td>\n",
       "      <td>6.900000</td>\n",
       "      <td>6.000000</td>\n",
       "      <td>3.000000</td>\n",
       "      <td>7.000000</td>\n",
       "    </tr>\n",
       "    <tr>\n",
       "      <th>75%</th>\n",
       "      <td>529.000000</td>\n",
       "      <td>22.000000</td>\n",
       "      <td>5.800000</td>\n",
       "      <td>7.700000</td>\n",
       "      <td>7.000000</td>\n",
       "      <td>4.000000</td>\n",
       "      <td>8.000000</td>\n",
       "    </tr>\n",
       "    <tr>\n",
       "      <th>max</th>\n",
       "      <td>705.000000</td>\n",
       "      <td>24.000000</td>\n",
       "      <td>8.500000</td>\n",
       "      <td>9.600000</td>\n",
       "      <td>9.000000</td>\n",
       "      <td>5.000000</td>\n",
       "      <td>9.000000</td>\n",
       "    </tr>\n",
       "  </tbody>\n",
       "</table>\n",
       "</div>"
      ],
      "text/plain": [
       "       Student_ID         Age  Avg_Daily_Usage_Hours  Sleep_Hours_Per_Night  \\\n",
       "count  705.000000  705.000000             705.000000             705.000000   \n",
       "mean   353.000000   20.659574               4.918723               6.868936   \n",
       "std    203.660256    1.399217               1.257395               1.126848   \n",
       "min      1.000000   18.000000               1.500000               3.800000   \n",
       "25%    177.000000   19.000000               4.100000               6.000000   \n",
       "50%    353.000000   21.000000               4.800000               6.900000   \n",
       "75%    529.000000   22.000000               5.800000               7.700000   \n",
       "max    705.000000   24.000000               8.500000               9.600000   \n",
       "\n",
       "       Mental_Health_Score  Conflicts_Over_Social_Media  Addicted_Score  \n",
       "count           705.000000                   705.000000      705.000000  \n",
       "mean              6.226950                     2.849645        6.436879  \n",
       "std               1.105055                     0.957968        1.587165  \n",
       "min               4.000000                     0.000000        2.000000  \n",
       "25%               5.000000                     2.000000        5.000000  \n",
       "50%               6.000000                     3.000000        7.000000  \n",
       "75%               7.000000                     4.000000        8.000000  \n",
       "max               9.000000                     5.000000        9.000000  "
      ]
     },
     "execution_count": 24,
     "metadata": {},
     "output_type": "execute_result"
    }
   ],
   "source": [
    "students_social_media_addiction.describe()"
   ]
  },
  {
   "cell_type": "markdown",
   "id": "3301f1da",
   "metadata": {},
   "source": [
    "# ***2. Déscription complète de ces données***"
   ]
  },
  {
   "cell_type": "markdown",
   "id": "bd7cf153",
   "metadata": {},
   "source": [
    "### **2.A - Les variables sont** : \n",
    "- Student_ID\n",
    "- Age\n",
    "- Avg_Daily_Usage_Hours\n",
    "- Sleep_Hours_Per_Night \n",
    "- Mental_Health_Score    \n",
    "- Conflicts_Over_Social_Media\n",
    "- Addicted_Score"
   ]
  },
  {
   "cell_type": "markdown",
   "id": "8dfd1cde",
   "metadata": {},
   "source": [
    "### **2.B -** Il y a pas de variable ayant **une donnée manquante** "
   ]
  },
  {
   "cell_type": "markdown",
   "id": "21b67bd4",
   "metadata": {},
   "source": [
    "### **2.C -** Toutes les variables sont de type **Integer**"
   ]
  },
  {
   "cell_type": "markdown",
   "id": "99daf1b5",
   "metadata": {},
   "source": [
    " ### **2.D - Les valeurs minimales et les valeurs maximales de chaque variable sont présentées dans le tableau ci-dessous :**<br/>\n",
    "| Variable                      | Valeur minimale | Valeur maximale |\n",
    "|-------------------------------|-----------------|-----------------|\n",
    "| Student_ID                    | 1               | 705             |\n",
    "| Age                           | 18              | 24              |\n",
    "| Avg_Daily_Usage_Hours         | 1.5             | 8.5             |\n",
    "| Sleep_Hours_Per_Night         | 3.8             | 9.6             |\n",
    "| Mental_Health_Score           | 4               | 9               |\n",
    "| Conflicts_Over_Social_Media   | 0               | 5               |\n",
    "| Addicted_Score                | 2               | 5               |"
   ]
  },
  {
   "cell_type": "markdown",
   "id": "c7774c60",
   "metadata": {},
   "source": [
    "# ***3. Extraction de quelques données***"
   ]
  },
  {
   "cell_type": "markdown",
   "id": "152b5da8",
   "metadata": {},
   "source": [
    "### **3.A - Extraction des âges**"
   ]
  },
  {
   "cell_type": "code",
   "execution_count": 25,
   "id": "a1f019eb",
   "metadata": {},
   "outputs": [
    {
     "name": "stdout",
     "output_type": "stream",
     "text": [
      "0      19\n",
      "1      22\n",
      "2      20\n",
      "3      18\n",
      "4      21\n",
      "       ..\n",
      "700    20\n",
      "701    23\n",
      "702    21\n",
      "703    24\n",
      "704    19\n",
      "Name: Age, Length: 705, dtype: int64\n"
     ]
    }
   ],
   "source": [
    "ages_des_eleves = students_social_media_addiction[\"Age\"]\n",
    "print(ages_des_eleves)"
   ]
  },
  {
   "cell_type": "markdown",
   "id": "a01614ad",
   "metadata": {},
   "source": [
    "### **3.B - Extraction des niveaux d'addiction**"
   ]
  },
  {
   "cell_type": "code",
   "execution_count": 26,
   "id": "51b392be",
   "metadata": {},
   "outputs": [
    {
     "name": "stdout",
     "output_type": "stream",
     "text": [
      "0      8\n",
      "1      3\n",
      "2      9\n",
      "3      4\n",
      "4      7\n",
      "      ..\n",
      "700    5\n",
      "701    9\n",
      "702    7\n",
      "703    4\n",
      "704    8\n",
      "Name: Addicted_Score, Length: 705, dtype: int64\n"
     ]
    }
   ],
   "source": [
    "niveaux_de_addiction = students_social_media_addiction[\"Addicted_Score\"]\n",
    "print(niveaux_de_addiction)"
   ]
  },
  {
   "cell_type": "markdown",
   "id": "c419cb1f",
   "metadata": {},
   "source": [
    "# ***4. Statistiques***"
   ]
  },
  {
   "cell_type": "markdown",
   "id": "80c62b27",
   "metadata": {},
   "source": [
    "### **$4.A_1$ - La plateforme la plus utilisée par tous les élèves**"
   ]
  },
  {
   "cell_type": "code",
   "execution_count": 27,
   "id": "1110b1de",
   "metadata": {},
   "outputs": [
    {
     "name": "stdout",
     "output_type": "stream",
     "text": [
      "La plateforme la plus utilisée par les élèves est : Instagram\n"
     ]
    }
   ],
   "source": [
    "# Trouver la plateforme la plus utilisée par tous les élèves\n",
    "plateforme_plus_utilisee_general = students_social_media_addiction[\"Most_Used_Platform\"].value_counts().idxmax()\n",
    "print(\"La plateforme la plus utilisée par les élèves est :\", plateforme_plus_utilisee_general)"
   ]
  },
  {
   "cell_type": "markdown",
   "id": "f476d438",
   "metadata": {},
   "source": [
    "#### **Confirmation de la plateforme la plus utilisée par tous les élèves**"
   ]
  },
  {
   "cell_type": "code",
   "execution_count": 28,
   "id": "63459616",
   "metadata": {},
   "outputs": [
    {
     "name": "stdout",
     "output_type": "stream",
     "text": [
      "   Plateformes  Nombre d'élèves qui l'utilisent\n",
      "0    Instagram                              249\n",
      "1       TikTok                              154\n",
      "2     Facebook                              123\n",
      "3     WhatsApp                               54\n",
      "4      Twitter                               30\n",
      "5     LinkedIn                               21\n",
      "6       WeChat                               15\n",
      "7     Snapchat                               13\n",
      "8         LINE                               12\n",
      "9    KakaoTalk                               12\n",
      "10   VKontakte                               12\n",
      "11     YouTube                               10\n"
     ]
    }
   ],
   "source": [
    "# Calculer le nombre d'élèves utilisant chaque plateforme\n",
    "plateforme_counts = students_social_media_addiction[\"Most_Used_Platform\"].value_counts().reset_index()\n",
    "plateforme_counts.columns = [\"Plateformes\", \"Nombre d'élèves qui l'utilisent\"]\n",
    "print(plateforme_counts)"
   ]
  },
  {
   "cell_type": "markdown",
   "id": "243da0fd",
   "metadata": {},
   "source": [
    "### **$4.A_2$ - Les plateformes ayant un effet sur les résultats académiques des élèves**"
   ]
  },
  {
   "cell_type": "code",
   "execution_count": 29,
   "id": "fb83837f",
   "metadata": {},
   "outputs": [
    {
     "name": "stdout",
     "output_type": "stream",
     "text": [
      "  Plateforme  Nombre d'élèves impactés\n",
      "0  Instagram                       172\n",
      "1     TikTok                       144\n",
      "2   WhatsApp                        54\n",
      "3   Facebook                        37\n",
      "4   Snapchat                        12\n",
      "5  KakaoTalk                        12\n",
      "6    Twitter                        11\n",
      "7     WeChat                         8\n",
      "8    YouTube                         3\n"
     ]
    }
   ],
   "source": [
    "# On filtre les élèves dont les résultats sont affectés par les réseaux sociaux\n",
    "plateformes_avec_effet = students_social_media_addiction[\n",
    "    students_social_media_addiction[\"Affects_Academic_Performance\"] == \"Yes\"\n",
    "]\n",
    "\n",
    "# On regroupe par plateforme pour compter le nombre d'élèves impactés\n",
    "plateformes_avec_effet = (\n",
    "    plateformes_avec_effet[\"Most_Used_Platform\"]\n",
    "    .value_counts()\n",
    "    .reset_index()\n",
    ")\n",
    "\n",
    "# On renomme les colonnes pour plus de clarté\n",
    "plateformes_avec_effet.columns = [\"Plateforme\", \"Nombre d'élèves impactés\"]\n",
    "\n",
    "# Affichage du tableau\n",
    "print(plateformes_avec_effet)"
   ]
  },
  {
   "cell_type": "markdown",
   "id": "5394c382",
   "metadata": {},
   "source": [
    "### **$4.B_1$ - La plateforme la plus utilisée par les tous élèves en Inde**"
   ]
  },
  {
   "cell_type": "code",
   "execution_count": 30,
   "id": "bb0842ef",
   "metadata": {},
   "outputs": [
    {
     "name": "stdout",
     "output_type": "stream",
     "text": [
      "La plateforme la plus utilisée par tous les élèves en Inde est : WhatsApp\n"
     ]
    }
   ],
   "source": [
    "eleves_en_inde = students_social_media_addiction[students_social_media_addiction[\"Country\"] == \"India\"]\n",
    "plateforme_plus_utilisee = eleves_en_inde[\"Most_Used_Platform\"].value_counts().idxmax()\n",
    "print(\"La plateforme la plus utilisée par tous les élèves en Inde est :\", plateforme_plus_utilisee)"
   ]
  },
  {
   "cell_type": "markdown",
   "id": "f7c0a6ee",
   "metadata": {},
   "source": [
    "### **Confirmation de la plateforme la plus utilisée par tous les élèves en Inde**"
   ]
  },
  {
   "cell_type": "code",
   "execution_count": 31,
   "id": "32aa31ea",
   "metadata": {},
   "outputs": [
    {
     "name": "stdout",
     "output_type": "stream",
     "text": [
      "  Plateformes utilisés en inde  Nombre d'élèves qui l'utilisent\n",
      "0                     WhatsApp                               25\n",
      "1                     Facebook                               13\n",
      "2                    Instagram                                9\n",
      "3                       TikTok                                5\n",
      "4                      Twitter                                1\n"
     ]
    }
   ],
   "source": [
    "# Compter le nombre d'élèves pour chaque plateforme en Inde\n",
    "plateforme_counts = eleves_en_inde[\"Most_Used_Platform\"].value_counts().reset_index()\n",
    "plateforme_counts.columns = [\"Plateformes utilisés en inde\", \"Nombre d'élèves qui l'utilisent\"]\n",
    "\n",
    "print(plateforme_counts)"
   ]
  },
  {
   "cell_type": "markdown",
   "id": "ebcd771b",
   "metadata": {},
   "source": [
    "### **$4.B_2$ - Les plateformes ayant un effet sur les résultats académiques des élèves en Inde**"
   ]
  },
  {
   "cell_type": "code",
   "execution_count": 32,
   "id": "4c4458b5",
   "metadata": {},
   "outputs": [
    {
     "name": "stdout",
     "output_type": "stream",
     "text": [
      "  Plateforme  Nombre d'élèves impactés en Inde\n",
      "0   WhatsApp                                25\n",
      "1  Instagram                                 9\n",
      "2     TikTok                                 5\n",
      "3   Facebook                                 3\n"
     ]
    }
   ],
   "source": [
    "# Filtrer les élèves qui vivent en Inde\n",
    "eleves_en_inde = students_social_media_addiction[\n",
    "    students_social_media_addiction[\"Country\"] == \"India\"\n",
    "]\n",
    "\n",
    "# Parmi eux, filtrer ceux dont les résultats académiques sont affectés\n",
    "plateformes_effet_inde = eleves_en_inde[\n",
    "    eleves_en_inde[\"Affects_Academic_Performance\"] == \"Yes\"\n",
    "][\"Most_Used_Platform\"].value_counts().reset_index()\n",
    "\n",
    "# Renommer les colonnes pour plus de clarté\n",
    "plateformes_effet_inde.columns = [\"Plateforme\", \"Nombre d'élèves impactés en Inde\"]\n",
    "\n",
    "# Afficher le tableau final\n",
    "print(plateformes_effet_inde)"
   ]
  },
  {
   "cell_type": "markdown",
   "id": "de969883",
   "metadata": {},
   "source": [
    "### **$4.C_{1}$ - La plateforme la plus utilisée par les tous élèves au USA**"
   ]
  },
  {
   "cell_type": "code",
   "execution_count": 33,
   "id": "42eca0fa",
   "metadata": {},
   "outputs": [
    {
     "name": "stdout",
     "output_type": "stream",
     "text": [
      "La plateforme la plus utilisée par tous les élèves aux USA est : Instagram\n"
     ]
    }
   ],
   "source": [
    "eleves_usa = students_social_media_addiction[students_social_media_addiction[\"Country\"] == \"USA\"]\n",
    "plateforme_plus_utilisee_usa = eleves_usa[\"Most_Used_Platform\"].value_counts().idxmax()\n",
    "print(\"La plateforme la plus utilisée par tous les élèves aux USA est :\", plateforme_plus_utilisee_usa)"
   ]
  },
  {
   "cell_type": "markdown",
   "id": "fcaa26ed",
   "metadata": {},
   "source": [
    "### **Confirmation de la plateforme la plus utilisée par tous les élèves au USA**"
   ]
  },
  {
   "cell_type": "code",
   "execution_count": 34,
   "id": "9c288cae",
   "metadata": {},
   "outputs": [
    {
     "name": "stdout",
     "output_type": "stream",
     "text": [
      "  Plateformes utilisés aux USA  Nombre d'élèves qui l'utilisent\n",
      "0                    Instagram                               19\n",
      "1                       TikTok                               16\n",
      "2                      Twitter                                5\n"
     ]
    }
   ],
   "source": [
    "# Compter le nombre d'élèves pour chaque plateforme aux USA\n",
    "plateforme_counts_usa = eleves_usa[\"Most_Used_Platform\"].value_counts().reset_index()\n",
    "plateforme_counts_usa.columns = [\"Plateformes utilisés aux USA\", \"Nombre d'élèves qui l'utilisent\"]\n",
    "print(plateforme_counts_usa)"
   ]
  },
  {
   "cell_type": "markdown",
   "id": "dd9c6f35",
   "metadata": {},
   "source": [
    "### **$4.C_2$ - Les plateformes ayant un effet sur les résultats académiques des élèves au USA**"
   ]
  },
  {
   "cell_type": "code",
   "execution_count": 36,
   "id": "4254e5d1",
   "metadata": {},
   "outputs": [
    {
     "name": "stdout",
     "output_type": "stream",
     "text": [
      "  Plateforme  Nombre d'élèves impactés aux USA\n",
      "0  Instagram                                19\n",
      "1     TikTok                                16\n",
      "2    Twitter                                 5\n"
     ]
    }
   ],
   "source": [
    "eleves_usa = students_social_media_addiction[students_social_media_addiction[\"Country\"] == \"USA\"]\n",
    "plateformes_effet_usa = eleves_usa[eleves_usa[\"Affects_Academic_Performance\"] == \"Yes\"][\"Most_Used_Platform\"].value_counts().reset_index()\n",
    "plateformes_effet_usa.columns = [\"Plateforme\", \"Nombre d'élèves impactés aux USA\"]\n",
    "print(plateformes_effet_usa)"
   ]
  },
  {
   "cell_type": "markdown",
   "id": "95610297",
   "metadata": {},
   "source": [
    "## ***5. Comparaison de l'addition des filles à celle des garçons***"
   ]
  },
  {
   "cell_type": "code",
   "execution_count": 39,
   "id": "796a07f5",
   "metadata": {},
   "outputs": [
    {
     "name": "stdout",
     "output_type": "stream",
     "text": [
      "Score moyen d'addiction par genre :\n",
      "Gender\n",
      "Female    6.52\n",
      "Male      6.36\n",
      "Name: Addicted_Score, dtype: float64\n"
     ]
    }
   ],
   "source": [
    "# Comparer l'addiction des filles et des garçons\n",
    "addiction_par_genre = students_social_media_addiction.groupby(\"Gender\")[\"Addicted_Score\"].mean()\n",
    "print(\"Score moyen d'addiction par genre :\")\n",
    "print(round(addiction_par_genre, 2))"
   ]
  },
  {
   "cell_type": "markdown",
   "id": "2646dc1b",
   "metadata": {},
   "source": [
    "# ***6. L'âge pour lequel l'addiction est plus forte***"
   ]
  },
  {
   "cell_type": "code",
   "execution_count": null,
   "id": "8754fe23",
   "metadata": {},
   "outputs": [
    {
     "name": "stdout",
     "output_type": "stream",
     "text": [
      "L'âge avec le score d'addiction le plus élevé est 18 ans\n"
     ]
    }
   ],
   "source": [
    "addiction_par_age = students_social_media_addiction.groupby(\"Age\")[\"Addicted_Score\"].mean()\n",
    "age_max_addiction = addiction_par_age.idxmax()\n",
    "score_max_addiction = addiction_par_age.max()\n",
    "print(f\"L'âge avec le score d'addiction le plus élevé est {age_max_addiction} ans\")"
   ]
  }
 ],
 "metadata": {
  "kernelspec": {
   "display_name": "base",
   "language": "python",
   "name": "python3"
  },
  "language_info": {
   "codemirror_mode": {
    "name": "ipython",
    "version": 3
   },
   "file_extension": ".py",
   "mimetype": "text/x-python",
   "name": "python",
   "nbconvert_exporter": "python",
   "pygments_lexer": "ipython3",
   "version": "3.13.5"
  }
 },
 "nbformat": 4,
 "nbformat_minor": 5
}
