{
 "cells": [
  {
   "cell_type": "markdown",
   "id": "a7406468",
   "metadata": {},
   "source": [
    "# Analyse des données relatives à l'addiction aux réseaux sociaux par les élèves "
   ]
  },
  {
   "cell_type": "markdown",
   "id": "44f5d571",
   "metadata": {},
   "source": [
    "## 1: Chargement des données de students_social_media_addiction.csv"
   ]
  },
  {
   "cell_type": "code",
   "execution_count": 21,
   "id": "8738cede",
   "metadata": {},
   "outputs": [
    {
     "data": {
      "text/html": [
       "<div>\n",
       "<style scoped>\n",
       "    .dataframe tbody tr th:only-of-type {\n",
       "        vertical-align: middle;\n",
       "    }\n",
       "\n",
       "    .dataframe tbody tr th {\n",
       "        vertical-align: top;\n",
       "    }\n",
       "\n",
       "    .dataframe thead th {\n",
       "        text-align: right;\n",
       "    }\n",
       "</style>\n",
       "<table border=\"1\" class=\"dataframe\">\n",
       "  <thead>\n",
       "    <tr style=\"text-align: right;\">\n",
       "      <th></th>\n",
       "      <th>Student_ID</th>\n",
       "      <th>Age</th>\n",
       "      <th>Avg_Daily_Usage_Hours</th>\n",
       "      <th>Sleep_Hours_Per_Night</th>\n",
       "      <th>Mental_Health_Score</th>\n",
       "      <th>Conflicts_Over_Social_Media</th>\n",
       "      <th>Addicted_Score</th>\n",
       "    </tr>\n",
       "  </thead>\n",
       "  <tbody>\n",
       "    <tr>\n",
       "      <th>count</th>\n",
       "      <td>705.000000</td>\n",
       "      <td>705.000000</td>\n",
       "      <td>705.000000</td>\n",
       "      <td>705.000000</td>\n",
       "      <td>705.000000</td>\n",
       "      <td>705.000000</td>\n",
       "      <td>705.000000</td>\n",
       "    </tr>\n",
       "    <tr>\n",
       "      <th>mean</th>\n",
       "      <td>353.000000</td>\n",
       "      <td>20.659574</td>\n",
       "      <td>4.918723</td>\n",
       "      <td>6.868936</td>\n",
       "      <td>6.226950</td>\n",
       "      <td>2.849645</td>\n",
       "      <td>6.436879</td>\n",
       "    </tr>\n",
       "    <tr>\n",
       "      <th>std</th>\n",
       "      <td>203.660256</td>\n",
       "      <td>1.399217</td>\n",
       "      <td>1.257395</td>\n",
       "      <td>1.126848</td>\n",
       "      <td>1.105055</td>\n",
       "      <td>0.957968</td>\n",
       "      <td>1.587165</td>\n",
       "    </tr>\n",
       "    <tr>\n",
       "      <th>min</th>\n",
       "      <td>1.000000</td>\n",
       "      <td>18.000000</td>\n",
       "      <td>1.500000</td>\n",
       "      <td>3.800000</td>\n",
       "      <td>4.000000</td>\n",
       "      <td>0.000000</td>\n",
       "      <td>2.000000</td>\n",
       "    </tr>\n",
       "    <tr>\n",
       "      <th>25%</th>\n",
       "      <td>177.000000</td>\n",
       "      <td>19.000000</td>\n",
       "      <td>4.100000</td>\n",
       "      <td>6.000000</td>\n",
       "      <td>5.000000</td>\n",
       "      <td>2.000000</td>\n",
       "      <td>5.000000</td>\n",
       "    </tr>\n",
       "    <tr>\n",
       "      <th>50%</th>\n",
       "      <td>353.000000</td>\n",
       "      <td>21.000000</td>\n",
       "      <td>4.800000</td>\n",
       "      <td>6.900000</td>\n",
       "      <td>6.000000</td>\n",
       "      <td>3.000000</td>\n",
       "      <td>7.000000</td>\n",
       "    </tr>\n",
       "    <tr>\n",
       "      <th>75%</th>\n",
       "      <td>529.000000</td>\n",
       "      <td>22.000000</td>\n",
       "      <td>5.800000</td>\n",
       "      <td>7.700000</td>\n",
       "      <td>7.000000</td>\n",
       "      <td>4.000000</td>\n",
       "      <td>8.000000</td>\n",
       "    </tr>\n",
       "    <tr>\n",
       "      <th>max</th>\n",
       "      <td>705.000000</td>\n",
       "      <td>24.000000</td>\n",
       "      <td>8.500000</td>\n",
       "      <td>9.600000</td>\n",
       "      <td>9.000000</td>\n",
       "      <td>5.000000</td>\n",
       "      <td>9.000000</td>\n",
       "    </tr>\n",
       "  </tbody>\n",
       "</table>\n",
       "</div>"
      ],
      "text/plain": [
       "       Student_ID         Age  Avg_Daily_Usage_Hours  Sleep_Hours_Per_Night  \\\n",
       "count  705.000000  705.000000             705.000000             705.000000   \n",
       "mean   353.000000   20.659574               4.918723               6.868936   \n",
       "std    203.660256    1.399217               1.257395               1.126848   \n",
       "min      1.000000   18.000000               1.500000               3.800000   \n",
       "25%    177.000000   19.000000               4.100000               6.000000   \n",
       "50%    353.000000   21.000000               4.800000               6.900000   \n",
       "75%    529.000000   22.000000               5.800000               7.700000   \n",
       "max    705.000000   24.000000               8.500000               9.600000   \n",
       "\n",
       "       Mental_Health_Score  Conflicts_Over_Social_Media  Addicted_Score  \n",
       "count           705.000000                   705.000000      705.000000  \n",
       "mean              6.226950                     2.849645        6.436879  \n",
       "std               1.105055                     0.957968        1.587165  \n",
       "min               4.000000                     0.000000        2.000000  \n",
       "25%               5.000000                     2.000000        5.000000  \n",
       "50%               6.000000                     3.000000        7.000000  \n",
       "75%               7.000000                     4.000000        8.000000  \n",
       "max               9.000000                     5.000000        9.000000  "
      ]
     },
     "execution_count": 21,
     "metadata": {},
     "output_type": "execute_result"
    }
   ],
   "source": [
    "import pandas as pd \n",
    "df= pd.read_csv(\"students_social_media_addiction.csv\")\n",
    "df.describe()"
   ]
  },
  {
   "cell_type": "code",
   "execution_count": 22,
   "id": "5701fd2f",
   "metadata": {},
   "outputs": [
    {
     "name": "stdout",
     "output_type": "stream",
     "text": [
      "<class 'pandas.core.frame.DataFrame'>\n",
      "RangeIndex: 705 entries, 0 to 704\n",
      "Data columns (total 13 columns):\n",
      " #   Column                        Non-Null Count  Dtype  \n",
      "---  ------                        --------------  -----  \n",
      " 0   Student_ID                    705 non-null    int64  \n",
      " 1   Age                           705 non-null    int64  \n",
      " 2   Gender                        705 non-null    object \n",
      " 3   Academic_Level                705 non-null    object \n",
      " 4   Country                       705 non-null    object \n",
      " 5   Avg_Daily_Usage_Hours         705 non-null    float64\n",
      " 6   Most_Used_Platform            705 non-null    object \n",
      " 7   Affects_Academic_Performance  705 non-null    object \n",
      " 8   Sleep_Hours_Per_Night         705 non-null    float64\n",
      " 9   Mental_Health_Score           705 non-null    int64  \n",
      " 10  Relationship_Status           705 non-null    object \n",
      " 11  Conflicts_Over_Social_Media   705 non-null    int64  \n",
      " 12  Addicted_Score                705 non-null    int64  \n",
      "dtypes: float64(2), int64(5), object(6)\n",
      "memory usage: 71.7+ KB\n"
     ]
    }
   ],
   "source": [
    "df.info()"
   ]
  },
  {
   "cell_type": "code",
   "execution_count": null,
   "id": "40166a06",
   "metadata": {},
   "outputs": [
    {
     "ename": "",
     "evalue": "",
     "output_type": "error",
     "traceback": [
      "\u001b[1;31mFailed to start the Kernel. \n",
      "\u001b[1;31mUnable to start Kernel 'base (Python 3.13.5)' due to a timeout waiting for the ports to get used. \n",
      "\u001b[1;31mView Jupyter <a href='command:jupyter.viewOutput'>log</a> for further details."
     ]
    }
   ],
   "source": [
    "df.head(5)"
   ]
  },
  {
   "cell_type": "markdown",
   "id": "25d32094",
   "metadata": {},
   "source": [
    "# 2 : Types de variables, valeurs min et max\n",
    "\n",
    " ### * Les variables et leur type sont:\n",
    "\n",
    "***student_ID(int),***  \n",
    "\n",
    "***Age(int)***,\n",
    "\n",
    "***Gender(obj)***,\n",
    "\n",
    "***Academic_Level(obj),***\n",
    "\n",
    "***Country(obj),***\n",
    "\n",
    "***Avg_Daily_Usage_Hours(float),***\n",
    "\n",
    "***Most_Used_Plateform(obj),***\n",
    "\n",
    "***Affect_Academic_Performance(obj),*** \n",
    "\n",
    "***Sleep_Hours_Per_Night(float),***\n",
    "\n",
    "***Mental_Health_Score(int),***\n",
    "\n",
    "***Relationship_Status(obj),***\n",
    "\n",
    "***Conflicts_Over_Social_Media(int),***\n",
    "\n",
    "***Addicted_score(int)***\n",
    "\n",
    "\n",
    "  ### * Il n'y a pas de variables manquantes.\n",
    " ### * Valeur maximales:\n",
    "\n",
    " Student_ID : 705\n",
    " \n",
    " Age : 24\n",
    " \n",
    " Avg_Daily_Usage_Hours : 8.5\n",
    " \n",
    " Sleep_Hours_Per_Night : 9.6\n",
    " \n",
    " Mental_Health_Score : 9\n",
    " \n",
    " Conflicts_Over_Social_Media : 5\n",
    " \n",
    " Addicted_Score : 9\n",
    "\n",
    "### * Valeurs minimales :\n",
    "\n",
    "Student_ID : 1\n",
    "\n",
    "Age : 18\n",
    "\n",
    "Avg_Daily_Usage_Hours : 1.0\n",
    "\n",
    "Sleep_Hours_Per_Night : 3.0\n",
    "\n",
    "Mental_Health_Score : 2\n",
    "\n",
    "Conflicts_Over_Social_Media : 0\n",
    "\n",
    "Addicted_Score : 2\n",
    " \n",
    "\n",
    "# 3 : Extraction de données en variables\n"
   ]
  },
  {
   "cell_type": "code",
   "execution_count": 23,
   "id": "ad842c62",
   "metadata": {},
   "outputs": [],
   "source": [
    "age_des_eleves= df[\"Age\"]\n",
    "niveau_addiction=df[\"Addicted_Score\"]"
   ]
  },
  {
   "cell_type": "markdown",
   "id": "9aaaea74",
   "metadata": {},
   "source": [
    "# 4.a : plateforme la plus utilisée"
   ]
  },
  {
   "cell_type": "code",
   "execution_count": 24,
   "id": "56cdd054",
   "metadata": {},
   "outputs": [
    {
     "name": "stdout",
     "output_type": "stream",
     "text": [
      "La plateforme la plus utilisée est : Instagram\n"
     ]
    }
   ],
   "source": [
    "# définir la variable plateforme la plus utilisée\n",
    "col_name = [col for col in df.columns if col.lower().replace('é','e').replace('è','e').replace('ê','e') in [\"most_used_plateform\",\"most_used_platform\"]][0]\n",
    "plateforme_plus_utilise = df[col_name].mode()[0]\n",
    "print(\"La plateforme la plus utilisée est :\", plateforme_plus_utilise)"
   ]
  },
  {
   "cell_type": "markdown",
   "id": "54f9bd31",
   "metadata": {},
   "source": [
    "# 4.b : plateforme la plus utilisée par pays"
   ]
  },
  {
   "cell_type": "code",
   "execution_count": 25,
   "id": "68de8a6c",
   "metadata": {},
   "outputs": [
    {
     "name": "stdout",
     "output_type": "stream",
     "text": [
      "Plateforme la plus utilisée aux USA : Instagram\n",
      "Plateforme la plus utilisée en Inde : WhatsApp\n",
      "plateforme la plus utilisée  au togo: Aucune donnée pour le pays : Togo\n"
     ]
    }
   ],
   "source": [
    "def plateforme_plus_utilisee_pays(df, pays):\n",
    "    \"\"\"Retourne la plateforme la plus utilisée pour un pays donné.\"\"\"\n",
    "    col_plateforme = [col for col in df.columns if col.lower().replace('é','e').replace('è','e').replace('ê','e') in [\"most_used_plateform\",\"most_used_platform\"]][0]\n",
    "    # Filtrer le DataFrame pour le pays donné\n",
    "    df_pays = df[df[\"Country\"].str.lower() == pays.lower()]\n",
    "    if df_pays.empty:\n",
    "        return f\"Aucune donnée pour le pays : {pays}\"\n",
    "    return df_pays[col_plateforme].mode()[0]\n",
    "\n",
    "# Exemple d'utilisation pour les USA et l'Inde\n",
    "print(\"Plateforme la plus utilisée aux USA :\", plateforme_plus_utilisee_pays(df, \"USA\"))\n",
    "print(\"Plateforme la plus utilisée en Inde :\", plateforme_plus_utilisee_pays(df, \"India\"))          \n",
    "print(\"plateforme la plus utilisée  au togo:\", plateforme_plus_utilisee_pays(df, \"Togo\"))"
   ]
  },
  {
   "cell_type": "markdown",
   "id": "a64f69a1",
   "metadata": {},
   "source": [
    "# DIAGRAMMME "
   ]
  },
  {
   "cell_type": "code",
   "execution_count": 26,
   "id": "9bc6f08b",
   "metadata": {},
   "outputs": [
    {
     "data": {
      "image/png": "[encoded data removed]",
      "text/plain": [
       "<Figure size 640x480 with 1 Axes>"
      ]
     },
     "metadata": {},
     "output_type": "display_data"
    }
   ],
   "source": [
    "import matplotlib.pyplot as plt\n",
    "# Trouver la plateforme la plus utilisée par pays\n",
    "platform_by_country = df.groupby(\"Country\")[\"Most_Used_Platform\"].agg(lambda x: x.mode()[0])\n",
    "counts = platform_by_country.value_counts()\n",
    "counts.plot(kind='bar', color='skyblue')\n",
    "plt.xlabel('Plateforme la plus utilisée par pays')\n",
    "plt.ylabel('Nombre de pays')\n",
    "plt.title('Plateforme la plus utilisée par pays')\n",
    "plt.tight_layout()\n",
    "plt.show()"
   ]
  },
  {
   "cell_type": "markdown",
   "id": "4a04ee82",
   "metadata": {},
   "source": [
    "# 4.c : Nombre d'utilisateurs par plateforme"
   ]
  },
  {
   "cell_type": "code",
   "execution_count": 27,
   "id": "b247f7d6",
   "metadata": {},
   "outputs": [
    {
     "name": "stdout",
     "output_type": "stream",
     "text": [
      "Nombre d'utilisateurs par plateforme : Most_Used_Platform\n",
      "Instagram    249\n",
      "TikTok       154\n",
      "Facebook     123\n",
      "WhatsApp      54\n",
      "Twitter       30\n",
      "LinkedIn      21\n",
      "WeChat        15\n",
      "Snapchat      13\n",
      "LINE          12\n",
      "KakaoTalk     12\n",
      "VKontakte     12\n",
      "YouTube       10\n",
      "Name: count, dtype: int64\n"
     ]
    }
   ],
   "source": [
    "nombre_d_utilisateurs_par_plateforme = df[\"Most_Used_Platform\"].value_counts()\n",
    "print(f\"Nombre d'utilisateurs par plateforme :\", nombre_d_utilisateurs_par_plateforme)"
   ]
  },
  {
   "cell_type": "markdown",
   "id": "41762763",
   "metadata": {},
   "source": [
    "# 4.d : Plateformes qui ont des effets sur les résultats des élèves en inde\n"
   ]
  },
  {
   "cell_type": "code",
   "execution_count": 28,
   "id": "6fdf4ff8",
   "metadata": {},
   "outputs": [
    {
     "name": "stdout",
     "output_type": "stream",
     "text": [
      "Plateformes qui ont des effets sur les résultats des élèves en Inde :\n",
      "Most_Used_Platform\n",
      "WhatsApp     25\n",
      "Instagram     9\n",
      "TikTok        5\n",
      "Facebook      3\n",
      "Name: count, dtype: int64\n"
     ]
    }
   ],
   "source": [
    "# Plateformes qui ont des effets sur les résultats des élèves en Inde\n",
    "valeurs_positives = [\"oui\", \"yes\", \"true\", \"1\"]\n",
    "df_inde = df[df[\"Country\"].str.lower() == \"india\"]\n",
    "plateformes_effet_inde = df_inde[df_inde[\"Affects_Academic_Performance\"].astype(str).str.lower().isin(valeurs_positives)]\n",
    "resultats_inde = plateformes_effet_inde[\"Most_Used_Platform\"].value_counts()\n",
    "print(\"Plateformes qui ont des effets sur les résultats des élèves en Inde :\")\n",
    "print(resultats_inde)\n"
   ]
  },
  {
   "cell_type": "markdown",
   "id": "c368289c",
   "metadata": {},
   "source": [
    "# 5 : Comparaison de l'addiction des filles à celle des garçons"
   ]
  },
  {
   "cell_type": "code",
   "execution_count": null,
   "id": "7d24058d",
   "metadata": {},
   "outputs": [
    {
     "name": "stdout",
     "output_type": "stream",
     "text": [
      "Moyenne du score d'addiction chez les filles : 6.515580736543909\n"
     ]
    }
   ],
   "source": [
    "# Comparaison de l'addiction des filles à celle des garçons\n",
    "addiction_filles = df[df[\"Gender\"].str.lower() == \"female\"][\"Addicted_Score\"]\n",
    "addiction_garcons = df[df[\"Gender\"].str.lower() == \"male\"][\"Addicted_Score\"]\n",
    "print(\"Moyenne du score d'addiction chez les filles :\", addiction_filles.mean())µ\n",
    "print(\"Moyenne du score d'addiction chez les garçons :\", addiction_garcons.mean())"
   ]
  },
  {
   "cell_type": "markdown",
   "id": "4ce678ed",
   "metadata": {},
   "source": [
    "# 6 : Age d'addiction la plus forte"
   ]
  },
  {
   "cell_type": "code",
   "execution_count": 30,
   "id": "02cd025d",
   "metadata": {},
   "outputs": [
    {
     "name": "stdout",
     "output_type": "stream",
     "text": [
      "Âge moyen pour le score d'addiction maximal : 19.64\n"
     ]
    }
   ],
   "source": [
    "# Age d'addiction la plus forte\n",
    "score_max = df[\"Addicted_Score\"].max()\n",
    "ages_max_addiction = df[df[\"Addicted_Score\"] == score_max][\"Age\"]\n",
    "print(f\"Âge moyen pour le score d'addiction maximal : {ages_max_addiction.mean():.2f}\")"
   ]
  },
  {
   "cell_type": "markdown",
   "id": "cea1582a",
   "metadata": {},
   "source": [
    "# CONCLUSION:\n",
    "L'addiction  aux réseaux sociaux est plus forte entre 19 et 20 ans."
   ]
  }
 ],
 "metadata": {
  "kernelspec": {
   "display_name": "base",
   "language": "python",
   "name": "python3"
  },
  "language_info": {
   "codemirror_mode": {
    "name": "ipython",
    "version": 3
   },
   "file_extension": ".py",
   "mimetype": "text/x-python",
   "name": "python",
   "nbconvert_exporter": "python",
   "pygments_lexer": "ipython3",
   "version": "3.13.5"
  }
 },
 "nbformat": 4,
 "nbformat_minor": 5
}
