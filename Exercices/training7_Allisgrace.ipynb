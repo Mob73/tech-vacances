{
 "cells": [
  {
   "cell_type": "code",
   "execution_count": 31,
   "id": "76ff3039",
   "metadata": {},
   "outputs": [],
   "source": [
    "import pandas as pd\n",
    "import numpy as np\n",
    "import matplotlib.pyplot as plt"
   ]
  },
  {
   "cell_type": "markdown",
   "id": "464dc415",
   "metadata": {},
   "source": [
    "# ***1. Détermination des variables***"
   ]
  },
  {
   "cell_type": "code",
   "execution_count": null,
   "id": "1491ff21",
   "metadata": {},
   "outputs": [
    {
     "data": {
      "text/html": [
       "<div>\n",
       "<style scoped>\n",
       "    .dataframe tbody tr th:only-of-type {\n",
       "        vertical-align: middle;\n",
       "    }\n",
       "\n",
       "    .dataframe tbody tr th {\n",
       "        vertical-align: top;\n",
       "    }\n",
       "\n",
       "    .dataframe thead th {\n",
       "        text-align: right;\n",
       "    }\n",
       "</style>\n",
       "<table border=\"1\" class=\"dataframe\">\n",
       "  <thead>\n",
       "    <tr style=\"text-align: right;\">\n",
       "      <th></th>\n",
       "      <th>Student_ID</th>\n",
       "      <th>Age</th>\n",
       "      <th>Gender</th>\n",
       "      <th>Academic_Level</th>\n",
       "      <th>Country</th>\n",
       "      <th>Avg_Daily_Usage_Hours</th>\n",
       "      <th>Most_Used_Platform</th>\n",
       "      <th>Affects_Academic_Performance</th>\n",
       "      <th>Sleep_Hours_Per_Night</th>\n",
       "      <th>Mental_Health_Score</th>\n",
       "      <th>Relationship_Status</th>\n",
       "      <th>Conflicts_Over_Social_Media</th>\n",
       "      <th>Addicted_Score</th>\n",
       "    </tr>\n",
       "  </thead>\n",
       "  <tbody>\n",
       "    <tr>\n",
       "      <th>0</th>\n",
       "      <td>1</td>\n",
       "      <td>19</td>\n",
       "      <td>Female</td>\n",
       "      <td>Undergraduate</td>\n",
       "      <td>Bangladesh</td>\n",
       "      <td>5.2</td>\n",
       "      <td>Instagram</td>\n",
       "      <td>Yes</td>\n",
       "      <td>6.5</td>\n",
       "      <td>6</td>\n",
       "      <td>In Relationship</td>\n",
       "      <td>3</td>\n",
       "      <td>8</td>\n",
       "    </tr>\n",
       "    <tr>\n",
       "      <th>1</th>\n",
       "      <td>2</td>\n",
       "      <td>22</td>\n",
       "      <td>Male</td>\n",
       "      <td>Graduate</td>\n",
       "      <td>India</td>\n",
       "      <td>2.1</td>\n",
       "      <td>Twitter</td>\n",
       "      <td>No</td>\n",
       "      <td>7.5</td>\n",
       "      <td>8</td>\n",
       "      <td>Single</td>\n",
       "      <td>0</td>\n",
       "      <td>3</td>\n",
       "    </tr>\n",
       "    <tr>\n",
       "      <th>2</th>\n",
       "      <td>3</td>\n",
       "      <td>20</td>\n",
       "      <td>Female</td>\n",
       "      <td>Undergraduate</td>\n",
       "      <td>USA</td>\n",
       "      <td>6.0</td>\n",
       "      <td>TikTok</td>\n",
       "      <td>Yes</td>\n",
       "      <td>5.0</td>\n",
       "      <td>5</td>\n",
       "      <td>Complicated</td>\n",
       "      <td>4</td>\n",
       "      <td>9</td>\n",
       "    </tr>\n",
       "    <tr>\n",
       "      <th>3</th>\n",
       "      <td>4</td>\n",
       "      <td>18</td>\n",
       "      <td>Male</td>\n",
       "      <td>High School</td>\n",
       "      <td>UK</td>\n",
       "      <td>3.0</td>\n",
       "      <td>YouTube</td>\n",
       "      <td>No</td>\n",
       "      <td>7.0</td>\n",
       "      <td>7</td>\n",
       "      <td>Single</td>\n",
       "      <td>1</td>\n",
       "      <td>4</td>\n",
       "    </tr>\n",
       "    <tr>\n",
       "      <th>4</th>\n",
       "      <td>5</td>\n",
       "      <td>21</td>\n",
       "      <td>Male</td>\n",
       "      <td>Graduate</td>\n",
       "      <td>Canada</td>\n",
       "      <td>4.5</td>\n",
       "      <td>Facebook</td>\n",
       "      <td>Yes</td>\n",
       "      <td>6.0</td>\n",
       "      <td>6</td>\n",
       "      <td>In Relationship</td>\n",
       "      <td>2</td>\n",
       "      <td>7</td>\n",
       "    </tr>\n",
       "  </tbody>\n",
       "</table>\n",
       "</div>"
      ],
      "text/plain": [
       "   Student_ID  Age  Gender Academic_Level     Country  Avg_Daily_Usage_Hours  \\\n",
       "0           1   19  Female  Undergraduate  Bangladesh                    5.2   \n",
       "1           2   22    Male       Graduate       India                    2.1   \n",
       "2           3   20  Female  Undergraduate         USA                    6.0   \n",
       "3           4   18    Male    High School          UK                    3.0   \n",
       "4           5   21    Male       Graduate      Canada                    4.5   \n",
       "\n",
       "  Most_Used_Platform Affects_Academic_Performance  Sleep_Hours_Per_Night  \\\n",
       "0          Instagram                          Yes                    6.5   \n",
       "1            Twitter                           No                    7.5   \n",
       "2             TikTok                          Yes                    5.0   \n",
       "3            YouTube                           No                    7.0   \n",
       "4           Facebook                          Yes                    6.0   \n",
       "\n",
       "   Mental_Health_Score Relationship_Status  Conflicts_Over_Social_Media  \\\n",
       "0                    6     In Relationship                            3   \n",
       "1                    8              Single                            0   \n",
       "2                    5         Complicated                            4   \n",
       "3                    7              Single                            1   \n",
       "4                    6     In Relationship                            2   \n",
       "\n",
       "   Addicted_Score  \n",
       "0               8  \n",
       "1               3  \n",
       "2               9  \n",
       "3               4  \n",
       "4               7  "
      ]
     },
     "execution_count": 8,
     "metadata": {},
     "output_type": "execute_result"
    }
   ],
   "source": [
    "students_social_media_addiction = pd.read_csv('students_social_media_addiction.csv')\n",
    "students_social_media_addiction.head()"
   ]
  },
  {
   "cell_type": "code",
   "execution_count": null,
   "id": "a5be3f42",
   "metadata": {},
   "outputs": [
    {
     "data": {
      "text/html": [
       "<div>\n",
       "<style scoped>\n",
       "    .dataframe tbody tr th:only-of-type {\n",
       "        vertical-align: middle;\n",
       "    }\n",
       "\n",
       "    .dataframe tbody tr th {\n",
       "        vertical-align: top;\n",
       "    }\n",
       "\n",
       "    .dataframe thead th {\n",
       "        text-align: right;\n",
       "    }\n",
       "</style>\n",
       "<table border=\"1\" class=\"dataframe\">\n",
       "  <thead>\n",
       "    <tr style=\"text-align: right;\">\n",
       "      <th></th>\n",
       "      <th>Student_ID</th>\n",
       "      <th>Age</th>\n",
       "      <th>Avg_Daily_Usage_Hours</th>\n",
       "      <th>Sleep_Hours_Per_Night</th>\n",
       "      <th>Mental_Health_Score</th>\n",
       "      <th>Conflicts_Over_Social_Media</th>\n",
       "      <th>Addicted_Score</th>\n",
       "    </tr>\n",
       "  </thead>\n",
       "  <tbody>\n",
       "    <tr>\n",
       "      <th>count</th>\n",
       "      <td>705.000000</td>\n",
       "      <td>705.000000</td>\n",
       "      <td>705.000000</td>\n",
       "      <td>705.000000</td>\n",
       "      <td>705.000000</td>\n",
       "      <td>705.000000</td>\n",
       "      <td>705.000000</td>\n",
       "    </tr>\n",
       "    <tr>\n",
       "      <th>mean</th>\n",
       "      <td>353.000000</td>\n",
       "      <td>20.659574</td>\n",
       "      <td>4.918723</td>\n",
       "      <td>6.868936</td>\n",
       "      <td>6.226950</td>\n",
       "      <td>2.849645</td>\n",
       "      <td>6.436879</td>\n",
       "    </tr>\n",
       "    <tr>\n",
       "      <th>std</th>\n",
       "      <td>203.660256</td>\n",
       "      <td>1.399217</td>\n",
       "      <td>1.257395</td>\n",
       "      <td>1.126848</td>\n",
       "      <td>1.105055</td>\n",
       "      <td>0.957968</td>\n",
       "      <td>1.587165</td>\n",
       "    </tr>\n",
       "    <tr>\n",
       "      <th>min</th>\n",
       "      <td>1.000000</td>\n",
       "      <td>18.000000</td>\n",
       "      <td>1.500000</td>\n",
       "      <td>3.800000</td>\n",
       "      <td>4.000000</td>\n",
       "      <td>0.000000</td>\n",
       "      <td>2.000000</td>\n",
       "    </tr>\n",
       "    <tr>\n",
       "      <th>25%</th>\n",
       "      <td>177.000000</td>\n",
       "      <td>19.000000</td>\n",
       "      <td>4.100000</td>\n",
       "      <td>6.000000</td>\n",
       "      <td>5.000000</td>\n",
       "      <td>2.000000</td>\n",
       "      <td>5.000000</td>\n",
       "    </tr>\n",
       "    <tr>\n",
       "      <th>50%</th>\n",
       "      <td>353.000000</td>\n",
       "      <td>21.000000</td>\n",
       "      <td>4.800000</td>\n",
       "      <td>6.900000</td>\n",
       "      <td>6.000000</td>\n",
       "      <td>3.000000</td>\n",
       "      <td>7.000000</td>\n",
       "    </tr>\n",
       "    <tr>\n",
       "      <th>75%</th>\n",
       "      <td>529.000000</td>\n",
       "      <td>22.000000</td>\n",
       "      <td>5.800000</td>\n",
       "      <td>7.700000</td>\n",
       "      <td>7.000000</td>\n",
       "      <td>4.000000</td>\n",
       "      <td>8.000000</td>\n",
       "    </tr>\n",
       "    <tr>\n",
       "      <th>max</th>\n",
       "      <td>705.000000</td>\n",
       "      <td>24.000000</td>\n",
       "      <td>8.500000</td>\n",
       "      <td>9.600000</td>\n",
       "      <td>9.000000</td>\n",
       "      <td>5.000000</td>\n",
       "      <td>9.000000</td>\n",
       "    </tr>\n",
       "  </tbody>\n",
       "</table>\n",
       "</div>"
      ],
      "text/plain": [
       "       Student_ID         Age  Avg_Daily_Usage_Hours  Sleep_Hours_Per_Night  \\\n",
       "count  705.000000  705.000000             705.000000             705.000000   \n",
       "mean   353.000000   20.659574               4.918723               6.868936   \n",
       "std    203.660256    1.399217               1.257395               1.126848   \n",
       "min      1.000000   18.000000               1.500000               3.800000   \n",
       "25%    177.000000   19.000000               4.100000               6.000000   \n",
       "50%    353.000000   21.000000               4.800000               6.900000   \n",
       "75%    529.000000   22.000000               5.800000               7.700000   \n",
       "max    705.000000   24.000000               8.500000               9.600000   \n",
       "\n",
       "       Mental_Health_Score  Conflicts_Over_Social_Media  Addicted_Score  \n",
       "count           705.000000                   705.000000      705.000000  \n",
       "mean              6.226950                     2.849645        6.436879  \n",
       "std               1.105055                     0.957968        1.587165  \n",
       "min               4.000000                     0.000000        2.000000  \n",
       "25%               5.000000                     2.000000        5.000000  \n",
       "50%               6.000000                     3.000000        7.000000  \n",
       "75%               7.000000                     4.000000        8.000000  \n",
       "max               9.000000                     5.000000        9.000000  "
      ]
     },
     "execution_count": 3,
     "metadata": {},
     "output_type": "execute_result"
    }
   ],
   "source": [
    "students_social_media_addiction = pd.read_csv('students_social_media_addiction.csv')\n",
    "students_social_media_addiction.describe()\n"
   ]
  },
  {
   "cell_type": "markdown",
   "id": "783c6fb9",
   "metadata": {},
   "source": [
    "# **2.**"
   ]
  },
  {
   "cell_type": "markdown",
   "id": "dcdda831",
   "metadata": {},
   "source": [
    "# ***2-A. Les types de variables***"
   ]
  },
  {
   "cell_type": "markdown",
   "id": "20d7d1c5",
   "metadata": {},
   "source": [
    "***Les variables sont*** : *Student ID\n",
    "Age ,Avg_Daily_Usage_Hours , Sleep_Hours_Per_Night ,Mental_Health_Score ,Conflicts_Over_Social_Media ,Addicted_Score ,Gender ,Academic_Level ,Country ,Most_Used_Platform, Affects_Academic_Performance ,Relationship_Status.*"
   ]
  },
  {
   "cell_type": "markdown",
   "id": "7fbe2d26",
   "metadata": {},
   "source": [
    "# **2-B.** ***Aucune valeur n'a de données manquantes .***"
   ]
  },
  {
   "cell_type": "markdown",
   "id": "87d2b4d2",
   "metadata": {},
   "source": [
    "# ***2-C.*** Nous avons des variables de type : ***\"int\"***"
   ]
  },
  {
   "cell_type": "code",
   "execution_count": 12,
   "id": "018b372a",
   "metadata": {},
   "outputs": [
    {
     "name": "stdout",
     "output_type": "stream",
     "text": [
      "Student_ID                                1\n",
      "Age                                      18\n",
      "Gender                               Female\n",
      "Academic_Level                     Graduate\n",
      "Country                         Afghanistan\n",
      "Avg_Daily_Usage_Hours                   1.5\n",
      "Most_Used_Platform                 Facebook\n",
      "Affects_Academic_Performance             No\n",
      "Sleep_Hours_Per_Night                   3.8\n",
      "Mental_Health_Score                       4\n",
      "Relationship_Status             Complicated\n",
      "Conflicts_Over_Social_Media               0\n",
      "Addicted_Score                            2\n",
      "dtype: object\n",
      "Student_ID                                705\n",
      "Age                                        24\n",
      "Gender                                   Male\n",
      "Academic_Level                  Undergraduate\n",
      "Country                                 Yemen\n",
      "Avg_Daily_Usage_Hours                     8.5\n",
      "Most_Used_Platform                    YouTube\n",
      "Affects_Academic_Performance              Yes\n",
      "Sleep_Hours_Per_Night                     9.6\n",
      "Mental_Health_Score                         9\n",
      "Relationship_Status                    Single\n",
      "Conflicts_Over_Social_Media                 5\n",
      "Addicted_Score                              9\n",
      "dtype: object\n"
     ]
    }
   ],
   "source": [
    "students_social_media_addiction = pd.read_csv('students_social_media_addiction.csv')\n",
    "students_social_media_addiction.min()\n",
    "students_social_media_addiction.max()\n",
    "print(students_social_media_addiction.min())\n",
    "print(students_social_media_addiction.max())"
   ]
  },
  {
   "cell_type": "markdown",
   "id": "cb77d41f",
   "metadata": {},
   "source": [
    "# ***2-D. Valeurs Minimales:***<br/>\n",
    "Student_ID:                                **1**<br/>\n",
    "Age :                                     **18**<br/>\n",
    "Gender :                              **Female**<br/>\n",
    "Academic_Level :                    **Graduate**<br/>\n",
    "Country :                        **Afghanistan**<br/>\n",
    "Avg_Daily_Usage_Hours :                  **1.5**<br/>\n",
    "Most_Used_Platform :                **Facebook**<br/>\n",
    "Affects_Academic_Performance :           **No**<br/>\n",
    "Sleep_Hours_Per_Night :                 **3.8**<br/>\n",
    "Mental_Health_Score :                      **4**<br/>\n",
    "Relationship_Status :            **Complicated**<br/>\n",
    "Conflicts_Over_Social_Media :              **0**<br/>\n",
    "Addicted_Score :                         **2**<br/>\n",
    "**dtype: object**"
   ]
  },
  {
   "cell_type": "markdown",
   "id": "b097dacf",
   "metadata": {},
   "source": [
    "# ***2-E. Valeurs Maximales***<br/>\n",
    "Student_ID :                                **705**<br/>\n",
    "Age          :                              **24**<br/>\n",
    "Gender       :                            **Male**<br/>\n",
    "Academic_Level:                  **Undergraduate**<br/>\n",
    "Country        :                         **Yemen**<br/>\n",
    "Avg_Daily_Usage_Hours :                    **8.5**<br/>\n",
    "Most_Used_Platform     :               **YouTube**<br/>\n",
    "Affects_Academic_Performance :             **Yes**<br/>\n",
    "Sleep_Hours_Per_Night         :            **9.6**<br/>\n",
    "Mental_Health_Score            :             **9**<br/>\n",
    "Relationship_Status             :       **Single**<br/>\n",
    "Conflicts_Over_Social_Media      :           **5**<br/>\n",
    "Addicted_Score                    :          **9**<br/>\n",
    "**dtype: object**"
   ]
  },
  {
   "cell_type": "markdown",
   "id": "dcce255e",
   "metadata": {},
   "source": [
    "# **3.**"
   ]
  },
  {
   "cell_type": "markdown",
   "id": "23f94823",
   "metadata": {},
   "source": [
    "# ***3-A. Extraction des ages dans la variable age des élèves***"
   ]
  },
  {
   "cell_type": "code",
   "execution_count": 13,
   "id": "90664e9a",
   "metadata": {},
   "outputs": [
    {
     "name": "stdout",
     "output_type": "stream",
     "text": [
      "0      19\n",
      "1      22\n",
      "2      20\n",
      "3      18\n",
      "4      21\n",
      "       ..\n",
      "700    20\n",
      "701    23\n",
      "702    21\n",
      "703    24\n",
      "704    19\n",
      "Name: Age, Length: 705, dtype: int64\n"
     ]
    }
   ],
   "source": [
    "ages_des_eleves = students_social_media_addiction['Age']\n",
    "print(ages_des_eleves)"
   ]
  },
  {
   "cell_type": "markdown",
   "id": "e412b30a",
   "metadata": {},
   "source": [
    "0 :      19<br/>\n",
    "1 :     22<br/>\n",
    "2  :    20<br/>\n",
    "3   :   18<br/>\n",
    "4    :  21<br/>\n",
    "       ..<br/>\n",
    "700  :  20<br/>\n",
    "701   : 23<br/>\n",
    "702    : 21<br/>\n",
    "703    : 24<br/>\n",
    "704    : 19<br/>\n"
   ]
  },
  {
   "cell_type": "markdown",
   "id": "aab11241",
   "metadata": {},
   "source": [
    "# ***3-B. Extraction des niveaux d'addiction***"
   ]
  },
  {
   "cell_type": "code",
   "execution_count": 14,
   "id": "4e9ccb4a",
   "metadata": {},
   "outputs": [
    {
     "name": "stdout",
     "output_type": "stream",
     "text": [
      "0      8\n",
      "1      3\n",
      "2      9\n",
      "3      4\n",
      "4      7\n",
      "      ..\n",
      "700    5\n",
      "701    9\n",
      "702    7\n",
      "703    4\n",
      "704    8\n",
      "Name: Addicted_Score, Length: 705, dtype: int64\n"
     ]
    }
   ],
   "source": [
    "niveau_daddiction = students_social_media_addiction['Addicted_Score']\n",
    "print(niveau_daddiction)"
   ]
  },
  {
   "cell_type": "markdown",
   "id": "419aa67a",
   "metadata": {},
   "source": [
    "0    :  8 <br/>\n",
    "1    :  3 <br/>\n",
    "2    :  9 <br/>\n",
    "3    :  4 <br/>\n",
    "4    :  7 <br/>\n",
    " \n",
    "      ..\n",
    "700  :  5 <br/>\n",
    "701  :  9 <br/>\n",
    "702   : 7 <br/> \n",
    "703  :  4 <br/>\n",
    "704   : 8 <br/>"
   ]
  },
  {
   "cell_type": "markdown",
   "id": "06a185c9",
   "metadata": {},
   "source": [
    "# 4."
   ]
  },
  {
   "cell_type": "markdown",
   "id": "8aabecc3",
   "metadata": {},
   "source": [
    "# ***4-A. Plateforme la plus utilisée par les élèves***"
   ]
  },
  {
   "cell_type": "code",
   "execution_count": 15,
   "id": "9c032e36",
   "metadata": {},
   "outputs": [
    {
     "name": "stdout",
     "output_type": "stream",
     "text": [
      "La plateforme la plus utilisée par les élèves est : Instagram\n"
     ]
    }
   ],
   "source": [
    "# Plateforme la plus utilisée par tous les élèves\n",
    "plateforme_plus_utilisee = students_social_media_addiction['Most_Used_Platform'].mode()[0]\n",
    "print(f\"La plateforme la plus utilisée par les élèves est : {plateforme_plus_utilisee}\")"
   ]
  },
  {
   "cell_type": "markdown",
   "id": "780bd156",
   "metadata": {},
   "source": [
    "*La plateforme la plus utilisée par les élèves est* : ***Instagram***"
   ]
  },
  {
   "cell_type": "code",
   "execution_count": 16,
   "id": "57d1d567",
   "metadata": {},
   "outputs": [
    {
     "name": "stdout",
     "output_type": "stream",
     "text": [
      "Nombre d'élèves utilisant Instagram : 249 sur 705 élèves\n",
      "La plateforme la plus utilisée par les élèves est bien Instagram.\n"
     ]
    }
   ],
   "source": [
    "nombre_instagram = students_social_media_addiction[students_social_media_addiction['Most_Used_Platform'] == 'Instagram'].shape[0]\n",
    "total_eleves = students_social_media_addiction.shape[0]\n",
    "print(f\"Nombre d'élèves utilisant Instagram : {nombre_instagram} sur {total_eleves} élèves\")\n",
    "\n",
    "if nombre_instagram == students_social_media_addiction['Most_Used_Platform'].value_counts().max():\n",
    "    print(\"La plateforme la plus utilisée par les élèves est bien Instagram.\")\n",
    "else:\n",
    "    print(\"La plateforme la plus utilisée n'est pas Instagram.\")"
   ]
  },
  {
   "cell_type": "markdown",
   "id": "2b169063",
   "metadata": {},
   "source": [
    "# ***4-B. Plateforme la plus utilisée par les élèves en Inde***"
   ]
  },
  {
   "cell_type": "code",
   "execution_count": null,
   "id": "c68701ea",
   "metadata": {},
   "outputs": [
    {
     "name": "stdout",
     "output_type": "stream",
     "text": [
      "La plateforme la plus utilisée en Inde est : WhatsApp\n"
     ]
    }
   ],
   "source": [
    "plateforme_inde = students_social_media_addiction[students_social_media_addiction['Country'] == 'India']['Most_Used_Platform'].mode()[0]\n",
    "print(f\"La plateforme la plus utilisée en Inde est : {plateforme_inde}\")"
   ]
  },
  {
   "cell_type": "markdown",
   "id": "047b1a0b",
   "metadata": {},
   "source": [
    "*La plateforme la plus utilisée par les élèves en Inde est* : ***WhatsApp***"
   ]
  },
  {
   "cell_type": "code",
   "execution_count": null,
   "id": "4e638ddc",
   "metadata": {},
   "outputs": [
    {
     "name": "stdout",
     "output_type": "stream",
     "text": [
      "La plateforme la plus utilisée aux USA est : Instagram\n"
     ]
    }
   ],
   "source": [
    "plateforme_usa = students_social_media_addiction[students_social_media_addiction['Country'] == 'USA']['Most_Used_Platform'].mode()[0]\n",
    "print(f\"La plateforme la plus utilisée aux USA est : {plateforme_usa}\")"
   ]
  },
  {
   "cell_type": "markdown",
   "id": "ee1efb78",
   "metadata": {},
   "source": [
    "*La plateforme la plus utilisée aux USA est* : ***Instagram***"
   ]
  },
  {
   "cell_type": "markdown",
   "id": "27043345",
   "metadata": {},
   "source": [
    "# ***4-C. Confirmation***"
   ]
  },
  {
   "cell_type": "code",
   "execution_count": 23,
   "id": "56a75c7d",
   "metadata": {},
   "outputs": [
    {
     "name": "stdout",
     "output_type": "stream",
     "text": [
      "          Country Most_Used_Platform  Nombre_Utilisateurs\n",
      "0     Afghanistan           LinkedIn                    1\n",
      "1         Albania             TikTok                    1\n",
      "2         Andorra             TikTok                    1\n",
      "3       Argentina             TikTok                    1\n",
      "4         Armenia          Instagram                    1\n",
      "..            ...                ...                  ...\n",
      "166    Uzbekistan             TikTok                    1\n",
      "167  Vatican City            YouTube                    1\n",
      "168     Venezuela           Facebook                    1\n",
      "169       Vietnam           Facebook                    1\n",
      "170         Yemen           Facebook                    1\n",
      "\n",
      "[171 rows x 3 columns]\n"
     ]
    }
   ],
   "source": [
    "print(utilisateurs_par_plateforme_et_par_pays)"
   ]
  },
  {
   "cell_type": "markdown",
   "id": "8554402e",
   "metadata": {},
   "source": [
    "# ***4-D. Les plateformes ayant un effet  sur les résultats académique des élèves en Inde*** "
   ]
  },
  {
   "cell_type": "code",
   "execution_count": 24,
   "id": "32591f8b",
   "metadata": {},
   "outputs": [
    {
     "name": "stdout",
     "output_type": "stream",
     "text": [
      "Plateformes ayant un effet sur les résultats académiques des élèves en Inde :\n",
      "Most_Used_Platform\n",
      "WhatsApp     25\n",
      "Instagram     9\n",
      "TikTok        5\n",
      "Facebook      3\n",
      "Name: count, dtype: int64\n"
     ]
    }
   ],
   "source": [
    "plateformes_effet_academique_inde = students_social_media_addiction[\n",
    "    (students_social_media_addiction['Country'] == 'India') &\n",
    "    (students_social_media_addiction['Affects_Academic_Performance'] == 'Yes')\n",
    "]['Most_Used_Platform'].value_counts()\n",
    "\n",
    "print(\"Plateformes ayant un effet sur les résultats académiques des élèves en Inde :\")\n",
    "print(plateformes_effet_academique_inde)"
   ]
  },
  {
   "cell_type": "markdown",
   "id": "5973c932",
   "metadata": {},
   "source": [
    "**Les plateformes qui ont un effet sur les résultats académiques des élèves sont** : <br/>\n",
    "WhatsApp :     **25**<br/>\n",
    "Instagram :     **9**<br/>\n",
    "TikTok  :     **5**<br/>\n",
    "Facebook :      **3**<br/>"
   ]
  },
  {
   "cell_type": "markdown",
   "id": "2deffc96",
   "metadata": {},
   "source": [
    "# ***4-E. Les plateformes ayant un effet  sur les résultats académique des élèves au USA***"
   ]
  },
  {
   "cell_type": "code",
   "execution_count": 25,
   "id": "9bc1f561",
   "metadata": {},
   "outputs": [
    {
     "name": "stdout",
     "output_type": "stream",
     "text": [
      "Plateformes ayant un effet sur les résultats académiques des élèves aux USA :\n",
      "Most_Used_Platform\n",
      "Instagram    19\n",
      "TikTok       16\n",
      "Twitter       5\n",
      "Name: count, dtype: int64\n"
     ]
    }
   ],
   "source": [
    "plateformes_effet_academique_usa = students_social_media_addiction[\n",
    "    (students_social_media_addiction['Country'] == 'USA') &\n",
    "    (students_social_media_addiction['Affects_Academic_Performance'] == 'Yes')\n",
    "]['Most_Used_Platform'].value_counts()\n",
    "\n",
    "print(\"Plateformes ayant un effet sur les résultats académiques des élèves aux USA :\")\n",
    "print(plateformes_effet_academique_usa)"
   ]
  },
  {
   "cell_type": "markdown",
   "id": "e1fc7364",
   "metadata": {},
   "source": [
    "***Les plateformes ayant un effet  sur les résultats académique des élèves au USA sont*** :<br/>\n",
    "Instagram :   **19**<br/>\n",
    "TikTok :      **16**<br/>\n",
    "Twitter:       **5**<br/>"
   ]
  },
  {
   "cell_type": "markdown",
   "id": "bbde9046",
   "metadata": {},
   "source": [
    "# ***5. Comparaison de l'addiction des filles par rapport à celui des garçons***"
   ]
  },
  {
   "cell_type": "code",
   "execution_count": 28,
   "id": "dc8e39bb",
   "metadata": {
    "vscode": {
     "languageId": "ruby"
    }
   },
   "outputs": [
    {
     "name": "stdout",
     "output_type": "stream",
     "text": [
      "Moyenne d'addiction des filles : 6.52\n",
      "Moyenne d'addiction des garçons : 6.36\n"
     ]
    },
    {
     "data": {
      "image/png": "[encoded data removed]",
      "text/plain": [
       "<Figure size 640x480 with 1 Axes>"
      ]
     },
     "metadata": {},
     "output_type": "display_data"
    }
   ],
   "source": [
    "# Comparaison de l'addiction des filles par rapport à celui des garçons\n",
    "import matplotlib.pyplot as plt\n",
    "addiction_filles = students_social_media_addiction[students_social_media_addiction['Gender'] == 'Female']['Addicted_Score']\n",
    "addiction_garcons = students_social_media_addiction[students_social_media_addiction['Gender'] == 'Male']['Addicted_Score']\n",
    "\n",
    "moyenne_filles = addiction_filles.mean()\n",
    "moyenne_garcons = addiction_garcons.mean()\n",
    "\n",
    "print(f\"Moyenne d'addiction des filles : {moyenne_filles:.2f}\")\n",
    "print(f\"Moyenne d'addiction des garçons : {moyenne_garcons:.2f}\")\n",
    "\n",
    "plt.bar(['Filles', 'Garçons'], [moyenne_filles, moyenne_garcons], color=['pink', 'blue'])\n",
    "plt.ylabel('Score moyen d\\'addiction')\n",
    "plt.title('Comparaison de l\\'addiction entre filles et garçons')\n",
    "plt.show()"
   ]
  },
  {
   "cell_type": "markdown",
   "id": "d016b67e",
   "metadata": {},
   "source": [
    "Moyenne d'addiction des filles : **6.52**<br/>\n",
    "Moyenne d'addiction des garçons : **6.36**<br/>\n",
    "*On retient donc que le score moyen d'addiction des filles est légèrement supérieur par rapport à celui des garçons donc ***les filles sont plus accro aux réseaux sociaux que les garçons***.*\n"
   ]
  },
  {
   "cell_type": "markdown",
   "id": "6646363a",
   "metadata": {},
   "source": [
    "# ***6. Age pour lequel l'addiction aux réseaux socio est la plus forte***"
   ]
  },
  {
   "cell_type": "code",
   "execution_count": 29,
   "id": "03e9ead1",
   "metadata": {},
   "outputs": [
    {
     "name": "stdout",
     "output_type": "stream",
     "text": [
      "L'âge pour lequel l'addiction aux réseaux sociaux est la plus forte est : 18 ans avec un score moyen de 7.79\n"
     ]
    }
   ],
   "source": [
    "addiction_par_age = students_social_media_addiction.groupby('Age')['Addicted_Score'].mean()\n",
    "age_max_addiction = addiction_par_age.idxmax()\n",
    "score_max_addiction = addiction_par_age.max()\n",
    "\n",
    "print(f\"L'âge pour lequel l'addiction aux réseaux sociaux est la plus forte est : {age_max_addiction} ans avec un score moyen de {score_max_addiction:.2f}\")"
   ]
  },
  {
   "cell_type": "markdown",
   "id": "b42a0790",
   "metadata": {},
   "source": [
    "L'âge pour lequel l'addiction aux réseaux sociaux est la plus forte est : **18 ans** avec un score moyen de **7.79**"
   ]
  },
  {
   "cell_type": "code",
   "execution_count": 30,
   "id": "0e3e4b53",
   "metadata": {},
   "outputs": [
    {
     "data": {
      "image/png": "[encoded data removed]",
      "text/plain": [
       "<Figure size 800x500 with 1 Axes>"
      ]
     },
     "metadata": {},
     "output_type": "display_data"
    }
   ],
   "source": [
    "plt.figure(figsize=(8, 5))\n",
    "addiction_par_age.plot(kind='bar', color='skyblue')\n",
    "plt.xlabel('Âge')\n",
    "plt.ylabel('Score moyen d\\'addiction')\n",
    "plt.title('Score moyen d\\'addiction aux réseaux sociaux par âge')\n",
    "plt.axvline(x=age_max_addiction - addiction_par_age.index.min(), color='red', linestyle='--', label=f'Âge max addiction: {age_max_addiction}')\n",
    "plt.legend()\n",
    "plt.tight_layout()\n",
    "plt.show()"
   ]
  }
 ],
 "metadata": {
  "kernelspec": {
   "display_name": "Python 3",
   "language": "python",
   "name": "python3"
  },
  "language_info": {
   "codemirror_mode": {
    "name": "ipython",
    "version": 3
   },
   "file_extension": ".py",
   "mimetype": "text/x-python",
   "name": "python",
   "nbconvert_exporter": "python",
   "pygments_lexer": "ipython3",
   "version": "3.13.5"
  }
 },
 "nbformat": 4,
 "nbformat_minor": 5
}
